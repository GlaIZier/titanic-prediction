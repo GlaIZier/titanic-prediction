{
 "cells": [
  {
   "cell_type": "markdown",
   "metadata": {},
   "source": [
    "### Data analysis"
   ]
  },
  {
   "cell_type": "code",
   "execution_count": 2,
   "metadata": {},
   "outputs": [],
   "source": [
    "import pandas as pd\n",
    "\n",
    "from matplotlib import pyplot as plt\n",
    "import seaborn as sns\n",
    "import pylab as plot\n",
    "\n",
    "\n",
    "pd.options.display.max_columns = 100\n",
    "params = {\n",
    "    'axes.labelsize': \"large\",\n",
    "    'xtick.labelsize': 'x-large',\n",
    "    'legend.fontsize': 20,\n",
    "    'figure.dpi': 150,\n",
    "    'figure.figsize': [25, 7]\n",
    "}\n",
    "plot.rcParams.update(params)"
   ]
  },
  {
   "cell_type": "code",
   "execution_count": 4,
   "metadata": {},
   "outputs": [],
   "source": [
    "import argparse\n",
    "args = argparse.Namespace()\n",
    "args.raw_train = pd.read_csv(\"../data/train.csv\")\n",
    "args.raw_test = pd.read_csv(\"../data/test.csv\")\n",
    "args.train_border_index = 891\n",
    "args.validation_border_index = 265"
   ]
  },
  {
   "cell_type": "code",
   "execution_count": null,
   "metadata": {},
   "outputs": [],
   "source": [
    "def show_data(data, label=''):\n",
    "    print(label)\n",
    "    print(data.head().to_string())\n",
    "    print(data.describe().to_string())\n",
    "    print(data.shape)"
   ]
  },
  {
   "cell_type": "code",
   "execution_count": null,
   "metadata": {},
   "outputs": [],
   "source": [
    "def analyze_training_data(train):\n",
    "    train['Died'] = 1 - train['Survived']\n",
    "    train.groupby('Sex').agg('sum')[['Survived', 'Died']].plot(kind='bar', figsize=(25, 7),\n",
    "                                                                   stacked=True, color=['g', 'r'])\n",
    "    plt.show()\n",
    "\n",
    "    train.groupby('Sex').agg('mean')[['Survived', 'Died']].plot(kind='bar', figsize=(25, 7),\n",
    "                                                                    stacked=True, color=['g', 'r'])\n",
    "    plt.show()\n",
    "\n",
    "    sns.violinplot(x='Sex', y='Age',\n",
    "                   hue='Survived', data=train,\n",
    "                   split=True,\n",
    "                   palette={0: \"r\", 1: \"g\"}\n",
    "                   )\n",
    "    plt.show()\n",
    "\n",
    "    plt.hist([train[train['Survived'] == 1]['Fare'], train[train['Survived'] == 0]['Fare']],\n",
    "             stacked=True, color=['g', 'r'],\n",
    "             bins=50, label=['Survived', 'Dead'])\n",
    "    plt.xlabel('Fare')\n",
    "    plt.ylabel('Number of passengers')\n",
    "    plt.legend()\n",
    "    plt.show()\n",
    "\n",
    "    ax = plt.subplot()\n",
    "    ax.scatter(train[train['Survived'] == 1]['Age'], train[train['Survived'] == 1]['Fare'],\n",
    "               c='green', s=train[train['Survived'] == 1]['Fare'])\n",
    "    ax.scatter(train[train['Survived'] == 0]['Age'], train[train['Survived'] == 0]['Fare'],\n",
    "               c='red', s=train[train['Survived'] == 0]['Fare'])\n",
    "    plt.show()\n",
    "\n",
    "    # fare - class correlation\n",
    "    ax = plt.subplot()\n",
    "    ax.set_ylabel('Average fare')\n",
    "    train.groupby('Pclass').mean()['Fare'].plot(kind='bar', figsize=(25, 7), ax = ax)\n",
    "    plt.show()\n",
    "\n",
    "    sns.violinplot(x='Embarked', y='Fare', hue='Survived', data=train, split=True, palette={0: \"r\", 1: \"g\"})\n",
    "    plt.show()"
   ]
  }
 ],
 "metadata": {
  "kernelspec": {
   "display_name": "Python 3",
   "language": "python",
   "name": "python3"
  },
  "language_info": {
   "codemirror_mode": {
    "name": "ipython",
    "version": 3
   },
   "file_extension": ".py",
   "mimetype": "text/x-python",
   "name": "python",
   "nbconvert_exporter": "python",
   "pygments_lexer": "ipython3",
   "version": "3.7.3"
  }
 },
 "nbformat": 4,
 "nbformat_minor": 2
}
