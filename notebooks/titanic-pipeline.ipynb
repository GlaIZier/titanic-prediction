{
 "cells": [
  {
   "cell_type": "markdown",
   "metadata": {},
   "source": [
    "## Data"
   ]
  },
  {
   "cell_type": "code",
   "execution_count": 1,
   "metadata": {},
   "outputs": [],
   "source": [
    "import pandas as pd\n",
    "\n",
    "from matplotlib import pyplot as plt\n",
    "import pylab as plot\n",
    "import logging\n",
    "\n",
    "\n",
    "pd.options.display.max_columns = 100\n",
    "logging.basicConfig(format='%(asctime)s : %(levelname)s : %(message)s', level=logging.INFO)\n",
    "log = logging.getLogger()"
   ]
  },
  {
   "cell_type": "code",
   "execution_count": 2,
   "metadata": {},
   "outputs": [],
   "source": [
    "import argparse\n",
    "args = argparse.Namespace()\n",
    "args.raw_train = pd.read_csv(\"../data/train.csv\")\n",
    "args.raw_test = pd.read_csv(\"../data/test.csv\")\n",
    "args.train_border_index = 891\n",
    "args.val_border_index = 265\n",
    "args.splits = 5\n",
    "args.seed = 101\n",
    "args.n_jobs = -1"
   ]
  },
  {
   "cell_type": "code",
   "execution_count": 3,
   "metadata": {},
   "outputs": [
    {
     "name": "stdout",
     "output_type": "stream",
     "text": [
      "(891, 12)\n"
     ]
    },
    {
     "data": {
      "text/html": [
       "<div>\n",
       "<style scoped>\n",
       "    .dataframe tbody tr th:only-of-type {\n",
       "        vertical-align: middle;\n",
       "    }\n",
       "\n",
       "    .dataframe tbody tr th {\n",
       "        vertical-align: top;\n",
       "    }\n",
       "\n",
       "    .dataframe thead th {\n",
       "        text-align: right;\n",
       "    }\n",
       "</style>\n",
       "<table border=\"1\" class=\"dataframe\">\n",
       "  <thead>\n",
       "    <tr style=\"text-align: right;\">\n",
       "      <th></th>\n",
       "      <th>PassengerId</th>\n",
       "      <th>Survived</th>\n",
       "      <th>Pclass</th>\n",
       "      <th>Name</th>\n",
       "      <th>Sex</th>\n",
       "      <th>Age</th>\n",
       "      <th>SibSp</th>\n",
       "      <th>Parch</th>\n",
       "      <th>Ticket</th>\n",
       "      <th>Fare</th>\n",
       "      <th>Cabin</th>\n",
       "      <th>Embarked</th>\n",
       "    </tr>\n",
       "  </thead>\n",
       "  <tbody>\n",
       "    <tr>\n",
       "      <th>0</th>\n",
       "      <td>1</td>\n",
       "      <td>0</td>\n",
       "      <td>3</td>\n",
       "      <td>Braund, Mr. Owen Harris</td>\n",
       "      <td>male</td>\n",
       "      <td>22.0</td>\n",
       "      <td>1</td>\n",
       "      <td>0</td>\n",
       "      <td>A/5 21171</td>\n",
       "      <td>7.2500</td>\n",
       "      <td>NaN</td>\n",
       "      <td>S</td>\n",
       "    </tr>\n",
       "    <tr>\n",
       "      <th>1</th>\n",
       "      <td>2</td>\n",
       "      <td>1</td>\n",
       "      <td>1</td>\n",
       "      <td>Cumings, Mrs. John Bradley (Florence Briggs Th...</td>\n",
       "      <td>female</td>\n",
       "      <td>38.0</td>\n",
       "      <td>1</td>\n",
       "      <td>0</td>\n",
       "      <td>PC 17599</td>\n",
       "      <td>71.2833</td>\n",
       "      <td>C85</td>\n",
       "      <td>C</td>\n",
       "    </tr>\n",
       "    <tr>\n",
       "      <th>2</th>\n",
       "      <td>3</td>\n",
       "      <td>1</td>\n",
       "      <td>3</td>\n",
       "      <td>Heikkinen, Miss. Laina</td>\n",
       "      <td>female</td>\n",
       "      <td>26.0</td>\n",
       "      <td>0</td>\n",
       "      <td>0</td>\n",
       "      <td>STON/O2. 3101282</td>\n",
       "      <td>7.9250</td>\n",
       "      <td>NaN</td>\n",
       "      <td>S</td>\n",
       "    </tr>\n",
       "    <tr>\n",
       "      <th>3</th>\n",
       "      <td>4</td>\n",
       "      <td>1</td>\n",
       "      <td>1</td>\n",
       "      <td>Futrelle, Mrs. Jacques Heath (Lily May Peel)</td>\n",
       "      <td>female</td>\n",
       "      <td>35.0</td>\n",
       "      <td>1</td>\n",
       "      <td>0</td>\n",
       "      <td>113803</td>\n",
       "      <td>53.1000</td>\n",
       "      <td>C123</td>\n",
       "      <td>S</td>\n",
       "    </tr>\n",
       "    <tr>\n",
       "      <th>4</th>\n",
       "      <td>5</td>\n",
       "      <td>0</td>\n",
       "      <td>3</td>\n",
       "      <td>Allen, Mr. William Henry</td>\n",
       "      <td>male</td>\n",
       "      <td>35.0</td>\n",
       "      <td>0</td>\n",
       "      <td>0</td>\n",
       "      <td>373450</td>\n",
       "      <td>8.0500</td>\n",
       "      <td>NaN</td>\n",
       "      <td>S</td>\n",
       "    </tr>\n",
       "  </tbody>\n",
       "</table>\n",
       "</div>"
      ],
      "text/plain": [
       "   PassengerId  Survived  Pclass  \\\n",
       "0            1         0       3   \n",
       "1            2         1       1   \n",
       "2            3         1       3   \n",
       "3            4         1       1   \n",
       "4            5         0       3   \n",
       "\n",
       "                                                Name     Sex   Age  SibSp  \\\n",
       "0                            Braund, Mr. Owen Harris    male  22.0      1   \n",
       "1  Cumings, Mrs. John Bradley (Florence Briggs Th...  female  38.0      1   \n",
       "2                             Heikkinen, Miss. Laina  female  26.0      0   \n",
       "3       Futrelle, Mrs. Jacques Heath (Lily May Peel)  female  35.0      1   \n",
       "4                           Allen, Mr. William Henry    male  35.0      0   \n",
       "\n",
       "   Parch            Ticket     Fare Cabin Embarked  \n",
       "0      0         A/5 21171   7.2500   NaN        S  \n",
       "1      0          PC 17599  71.2833   C85        C  \n",
       "2      0  STON/O2. 3101282   7.9250   NaN        S  \n",
       "3      0            113803  53.1000  C123        S  \n",
       "4      0            373450   8.0500   NaN        S  "
      ]
     },
     "execution_count": 3,
     "metadata": {},
     "output_type": "execute_result"
    }
   ],
   "source": [
    "print(args.raw_train.shape)\n",
    "args.raw_train.head()"
   ]
  },
  {
   "cell_type": "code",
   "execution_count": 4,
   "metadata": {},
   "outputs": [
    {
     "name": "stdout",
     "output_type": "stream",
     "text": [
      "(418, 11)\n"
     ]
    },
    {
     "data": {
      "text/html": [
       "<div>\n",
       "<style scoped>\n",
       "    .dataframe tbody tr th:only-of-type {\n",
       "        vertical-align: middle;\n",
       "    }\n",
       "\n",
       "    .dataframe tbody tr th {\n",
       "        vertical-align: top;\n",
       "    }\n",
       "\n",
       "    .dataframe thead th {\n",
       "        text-align: right;\n",
       "    }\n",
       "</style>\n",
       "<table border=\"1\" class=\"dataframe\">\n",
       "  <thead>\n",
       "    <tr style=\"text-align: right;\">\n",
       "      <th></th>\n",
       "      <th>PassengerId</th>\n",
       "      <th>Pclass</th>\n",
       "      <th>Name</th>\n",
       "      <th>Sex</th>\n",
       "      <th>Age</th>\n",
       "      <th>SibSp</th>\n",
       "      <th>Parch</th>\n",
       "      <th>Ticket</th>\n",
       "      <th>Fare</th>\n",
       "      <th>Cabin</th>\n",
       "      <th>Embarked</th>\n",
       "    </tr>\n",
       "  </thead>\n",
       "  <tbody>\n",
       "    <tr>\n",
       "      <th>0</th>\n",
       "      <td>892</td>\n",
       "      <td>3</td>\n",
       "      <td>Kelly, Mr. James</td>\n",
       "      <td>male</td>\n",
       "      <td>34.5</td>\n",
       "      <td>0</td>\n",
       "      <td>0</td>\n",
       "      <td>330911</td>\n",
       "      <td>7.8292</td>\n",
       "      <td>NaN</td>\n",
       "      <td>Q</td>\n",
       "    </tr>\n",
       "    <tr>\n",
       "      <th>1</th>\n",
       "      <td>893</td>\n",
       "      <td>3</td>\n",
       "      <td>Wilkes, Mrs. James (Ellen Needs)</td>\n",
       "      <td>female</td>\n",
       "      <td>47.0</td>\n",
       "      <td>1</td>\n",
       "      <td>0</td>\n",
       "      <td>363272</td>\n",
       "      <td>7.0000</td>\n",
       "      <td>NaN</td>\n",
       "      <td>S</td>\n",
       "    </tr>\n",
       "    <tr>\n",
       "      <th>2</th>\n",
       "      <td>894</td>\n",
       "      <td>2</td>\n",
       "      <td>Myles, Mr. Thomas Francis</td>\n",
       "      <td>male</td>\n",
       "      <td>62.0</td>\n",
       "      <td>0</td>\n",
       "      <td>0</td>\n",
       "      <td>240276</td>\n",
       "      <td>9.6875</td>\n",
       "      <td>NaN</td>\n",
       "      <td>Q</td>\n",
       "    </tr>\n",
       "    <tr>\n",
       "      <th>3</th>\n",
       "      <td>895</td>\n",
       "      <td>3</td>\n",
       "      <td>Wirz, Mr. Albert</td>\n",
       "      <td>male</td>\n",
       "      <td>27.0</td>\n",
       "      <td>0</td>\n",
       "      <td>0</td>\n",
       "      <td>315154</td>\n",
       "      <td>8.6625</td>\n",
       "      <td>NaN</td>\n",
       "      <td>S</td>\n",
       "    </tr>\n",
       "    <tr>\n",
       "      <th>4</th>\n",
       "      <td>896</td>\n",
       "      <td>3</td>\n",
       "      <td>Hirvonen, Mrs. Alexander (Helga E Lindqvist)</td>\n",
       "      <td>female</td>\n",
       "      <td>22.0</td>\n",
       "      <td>1</td>\n",
       "      <td>1</td>\n",
       "      <td>3101298</td>\n",
       "      <td>12.2875</td>\n",
       "      <td>NaN</td>\n",
       "      <td>S</td>\n",
       "    </tr>\n",
       "  </tbody>\n",
       "</table>\n",
       "</div>"
      ],
      "text/plain": [
       "   PassengerId  Pclass                                          Name     Sex  \\\n",
       "0          892       3                              Kelly, Mr. James    male   \n",
       "1          893       3              Wilkes, Mrs. James (Ellen Needs)  female   \n",
       "2          894       2                     Myles, Mr. Thomas Francis    male   \n",
       "3          895       3                              Wirz, Mr. Albert    male   \n",
       "4          896       3  Hirvonen, Mrs. Alexander (Helga E Lindqvist)  female   \n",
       "\n",
       "    Age  SibSp  Parch   Ticket     Fare Cabin Embarked  \n",
       "0  34.5      0      0   330911   7.8292   NaN        Q  \n",
       "1  47.0      1      0   363272   7.0000   NaN        S  \n",
       "2  62.0      0      0   240276   9.6875   NaN        Q  \n",
       "3  27.0      0      0   315154   8.6625   NaN        S  \n",
       "4  22.0      1      1  3101298  12.2875   NaN        S  "
      ]
     },
     "execution_count": 4,
     "metadata": {},
     "output_type": "execute_result"
    }
   ],
   "source": [
    "print(args.raw_test.shape)\n",
    "args.raw_test.head()"
   ]
  },
  {
   "cell_type": "markdown",
   "metadata": {},
   "source": [
    "### Unknown data"
   ]
  },
  {
   "cell_type": "code",
   "execution_count": 5,
   "metadata": {
    "scrolled": true
   },
   "outputs": [
    {
     "data": {
      "image/png": "[encoded data removed]",
      "text/plain": [
       "<Figure size 1800x504 with 1 Axes>"
      ]
     },
     "metadata": {
      "needs_background": "light"
     },
     "output_type": "display_data"
    }
   ],
   "source": [
    "ax = args.raw_train.isna().sum().plot(kind='bar', figsize=(25, 7), stacked=True, title='Train set: total empty cells')\n",
    "for p in ax.patches:\n",
    "    ax.annotate(str(p.get_height()), (p.get_x() * 1.005, p.get_height() * 1.005))"
   ]
  },
  {
   "cell_type": "code",
   "execution_count": 6,
   "metadata": {
    "scrolled": true
   },
   "outputs": [
    {
     "data": {
      "image/png": "[encoded data removed]",
      "text/plain": [
       "<Figure size 1800x504 with 1 Axes>"
      ]
     },
     "metadata": {
      "needs_background": "light"
     },
     "output_type": "display_data"
    }
   ],
   "source": [
    "ax = args.raw_test.isna().sum().plot(kind='bar', figsize=(25, 7), stacked=True, title='Train set: total empty cells')\n",
    "for p in ax.patches:\n",
    "    ax.annotate(str(p.get_height()), (p.get_x() * 1.005, p.get_height() * 1.005))"
   ]
  },
  {
   "cell_type": "markdown",
   "metadata": {},
   "source": [
    "## Feature engineering"
   ]
  },
  {
   "cell_type": "code",
   "execution_count": 7,
   "metadata": {},
   "outputs": [],
   "source": [
    "X = args.raw_train.copy().drop('Survived', axis=1)\n",
    "y = args.raw_train.copy()['Survived']\n",
    "X_test = args.raw_test.copy()"
   ]
  },
  {
   "cell_type": "code",
   "execution_count": 8,
   "metadata": {},
   "outputs": [
    {
     "name": "stdout",
     "output_type": "stream",
     "text": [
      "X's transformed shape: (891, 26)\n"
     ]
    }
   ],
   "source": [
    "# median age\n",
    "\n",
    "import numpy as np\n",
    "from sklearn.pipeline import make_union, Pipeline, make_pipeline\n",
    "from sklearn.compose import ColumnTransformer\n",
    "from sklearn.base import BaseEstimator, TransformerMixin\n",
    "from sklearn.preprocessing import OneHotEncoder, OrdinalEncoder, StandardScaler\n",
    "from sklearn.impute import SimpleImputer\n",
    "from functools import reduce\n",
    "import re\n",
    "\n",
    "class NameToTitleTransformer(BaseEstimator, TransformerMixin):\n",
    "    def fit(self, X, y=None):\n",
    "        return self\n",
    "    def transform(self, X):\n",
    "        names = X.to_numpy().reshape(len(X),)\n",
    "    \n",
    "        title_dictionary = {\n",
    "            \"Capt\": \"Officer\",\n",
    "            \"Col\": \"Officer\",\n",
    "            \"Major\": \"Officer\",\n",
    "            \"Jonkheer\": \"Royalty\",\n",
    "            \"Don\": \"Royalty\",\n",
    "            \"Sir\": \"Royalty\",\n",
    "            \"Dr\": \"Officer\",\n",
    "            \"Rev\": \"Officer\",\n",
    "            \"the Countess\": \"Royalty\",\n",
    "            \"Mme\": \"Mrs\",\n",
    "            \"Mlle\": \"Miss\",\n",
    "            \"Ms\": \"Mrs\",\n",
    "            \"Mr\": \"Mr\",\n",
    "            \"Mrs\": \"Mrs\",\n",
    "            \"Miss\": \"Miss\",\n",
    "            \"Master\": \"Master\",\n",
    "            \"Lady\": \"Royalty\"\n",
    "        }\n",
    "        titles = [fullname.split(',')[1].split('.')[0].strip() for fullname in names]\n",
    "        short_titles = [title_dictionary.get(title, \"Royalty\") for title in titles]\n",
    "        return np.array(short_titles).reshape(len(short_titles), 1)\n",
    "\n",
    "class SibspParchToFamilySizeTransformer(BaseEstimator, TransformerMixin):\n",
    "    def fit(self, X, y=None):\n",
    "        return self\n",
    "    def transform(self, X):\n",
    "        def _categorize_family_size(family_size_row):\n",
    "            s_size = 0\n",
    "            m_size = 4\n",
    "            family_size = reduce(lambda x, y:x+y, family_size_row)\n",
    "            if family_size == s_size:\n",
    "                return 's'\n",
    "            elif family_size <= m_size:\n",
    "                return 'm'\n",
    "            else:\n",
    "                return 'l'\n",
    "        family_size_categories = list(map(_categorize_family_size, np.asarray(X.to_numpy())))\n",
    "        return np.array(family_size_categories).reshape(len(family_size_categories), 1)\n",
    "\n",
    "class TicketTransformer(BaseEstimator, TransformerMixin):\n",
    "    def fit(self, X, y=None):\n",
    "        return self\n",
    "    def transform(self, X):\n",
    "        def _clean_ticket(ticket):\n",
    "            # replace all special chars\n",
    "            ticket = re.sub('[^a-zA-Z0-9]', '', ticket)\n",
    "            if ticket[0].isdigit():\n",
    "                return 'digit'\n",
    "            return ticket[0]\n",
    "        ticket_categories = list(map(_clean_ticket, np.asarray(X.to_numpy().reshape(len(X),))))\n",
    "        return np.array(ticket_categories).reshape(len(ticket_categories), 1)\n",
    "    \n",
    "\n",
    "\n",
    "pclass_pipeline = OneHotEncoder(categories='auto')\n",
    "name_pipeline = make_pipeline(NameToTitleTransformer(), OneHotEncoder(categories='auto'))\n",
    "sex_pipeline = OrdinalEncoder(dtype='int')\n",
    "age_fare_pipeline = make_pipeline(SimpleImputer(strategy='median'), StandardScaler())\n",
    "sibsp_parch_pipeline = make_pipeline(SibspParchToFamilySizeTransformer(), OneHotEncoder(categories='auto'))\n",
    "ticket_pipeline = make_pipeline(TicketTransformer(), OneHotEncoder(categories='auto'))\n",
    "embarked_pipeline = make_pipeline(SimpleImputer(strategy='most_frequent'), OneHotEncoder(categories='auto'))\n",
    "\n",
    "feature_engineering_col_transformer = ColumnTransformer(\n",
    "    [('pclass_transformer', pclass_pipeline, ['Pclass']),\n",
    "     ('name_transformer', name_pipeline, ['Name']),\n",
    "     ('sex_transformer', sex_pipeline, ['Sex']),\n",
    "     ('age_fare_transformer', age_fare_pipeline, ['Age', 'Fare']),\n",
    "     ('sibsp_parch_transformer', sibsp_parch_pipeline, ['SibSp', 'Parch']),\n",
    "     ('ticket_transformer', ticket_pipeline, ['Ticket']),\n",
    "     ('embarked_transformer', embarked_pipeline, ['Embarked'])], \n",
    "    remainder='drop'\n",
    ")\n",
    "\n",
    "print(\"X's transformed shape:\", feature_engineering_col_transformer.fit_transform(X).shape)"
   ]
  },
  {
   "cell_type": "code",
   "execution_count": 9,
   "metadata": {},
   "outputs": [
    {
     "name": "stderr",
     "output_type": "stream",
     "text": [
      "2020-11-28 19:07:15,650 : INFO : X's transformed shape with category median age: (891, 26)\n"
     ]
    }
   ],
   "source": [
    "# median age accoring to sex and pclass\n",
    "\n",
    "import numpy as np\n",
    "from sklearn.pipeline import make_union, Pipeline, make_pipeline, make_union\n",
    "from sklearn.compose import ColumnTransformer\n",
    "from sklearn.base import BaseEstimator, TransformerMixin\n",
    "from sklearn.preprocessing import OneHotEncoder, OrdinalEncoder, StandardScaler\n",
    "from sklearn.impute import SimpleImputer\n",
    "from functools import reduce\n",
    "import re\n",
    "\n",
    "class NameToTitleTransformer(BaseEstimator, TransformerMixin):\n",
    "    def fit(self, X, y=None):\n",
    "        return self\n",
    "    def transform(self, X):\n",
    "        names = X.to_numpy().reshape(len(X),)\n",
    "    \n",
    "        title_dictionary = {\n",
    "            \"Capt\": \"Officer\",\n",
    "            \"Col\": \"Officer\",\n",
    "            \"Major\": \"Officer\",\n",
    "            \"Jonkheer\": \"Royalty\",\n",
    "            \"Don\": \"Royalty\",\n",
    "            \"Sir\": \"Royalty\",\n",
    "            \"Dr\": \"Officer\",\n",
    "            \"Rev\": \"Officer\",\n",
    "            \"the Countess\": \"Royalty\",\n",
    "            \"Mme\": \"Mrs\",\n",
    "            \"Mlle\": \"Miss\",\n",
    "            \"Ms\": \"Mrs\",\n",
    "            \"Mr\": \"Mr\",\n",
    "            \"Mrs\": \"Mrs\",\n",
    "            \"Miss\": \"Miss\",\n",
    "            \"Master\": \"Master\",\n",
    "            \"Lady\": \"Royalty\"\n",
    "        }\n",
    "        titles = [fullname.split(',')[1].split('.')[0].strip() for fullname in names]\n",
    "        short_titles = [title_dictionary.get(title, \"Royalty\") for title in titles]\n",
    "        return np.array(short_titles).reshape(len(short_titles), 1)\n",
    "\n",
    "class SibspParchToFamilySizeTransformer(BaseEstimator, TransformerMixin):\n",
    "    def fit(self, X, y=None):\n",
    "        return self\n",
    "    def transform(self, X):\n",
    "        def _categorize_family_size(family_size_row):\n",
    "            s_size = 0\n",
    "            m_size = 4\n",
    "            family_size = reduce(lambda x, y:x+y, family_size_row)\n",
    "            if family_size == s_size:\n",
    "                return 's'\n",
    "            elif family_size <= m_size:\n",
    "                return 'm'\n",
    "            else:\n",
    "                return 'l'\n",
    "        family_size_categories = list(map(_categorize_family_size, np.asarray(X.to_numpy())))\n",
    "        return np.array(family_size_categories).reshape(len(family_size_categories), 1)\n",
    "\n",
    "class TicketTransformer(BaseEstimator, TransformerMixin):\n",
    "    def fit(self, X, y=None):\n",
    "        return self\n",
    "    def transform(self, X):\n",
    "        def _clean_ticket(ticket):\n",
    "            # replace all special chars\n",
    "            ticket = re.sub('[^a-zA-Z0-9]', '', ticket)\n",
    "            if ticket[0].isdigit():\n",
    "                return 'digit'\n",
    "            return ticket[0]\n",
    "        ticket_categories = list(map(_clean_ticket, np.asarray(X.to_numpy().reshape(len(X),))))\n",
    "        return np.array(ticket_categories).reshape(len(ticket_categories), 1)\n",
    "    \n",
    "\n",
    "\n",
    "pclass_pipeline = OneHotEncoder(categories='auto')\n",
    "name_pipeline = make_pipeline(NameToTitleTransformer(), OneHotEncoder(categories='auto'))\n",
    "sex_pipeline = OrdinalEncoder(dtype='int')\n",
    "fare_pipeline = make_pipeline(SimpleImputer(strategy='median'), StandardScaler())\n",
    "sibsp_parch_pipeline = make_pipeline(SibspParchToFamilySizeTransformer(), OneHotEncoder(categories='auto'))\n",
    "ticket_pipeline = make_pipeline(TicketTransformer(), OneHotEncoder(categories='auto'))\n",
    "embarked_pipeline = make_pipeline(SimpleImputer(strategy='most_frequent'), OneHotEncoder(categories='auto'))\n",
    "\n",
    "feature_engineering_col_transformer_wo_age = ColumnTransformer(\n",
    "    [('pclass_transformer', pclass_pipeline, ['Pclass']),\n",
    "     ('name_transformer', name_pipeline, ['Name']),\n",
    "     ('sex_transformer', sex_pipeline, ['Sex']),\n",
    "     ('fare_transformer', fare_pipeline, ['Fare']),\n",
    "     ('sibsp_parch_transformer', sibsp_parch_pipeline, ['SibSp', 'Parch']),\n",
    "     ('ticket_transformer', ticket_pipeline, ['Ticket']),\n",
    "     ('embarked_transformer', embarked_pipeline, ['Embarked'])], \n",
    "    remainder='drop'\n",
    ")\n",
    "\n",
    "class CategoryMedianAgeTransformer(BaseEstimator, TransformerMixin):\n",
    "    def fit(self, X, y=None):\n",
    "        return self\n",
    "    def transform(self, X):\n",
    "        def _fill_age_median_row(row):\n",
    "            if np.isnan(row['Age']):\n",
    "                return median_ages[(median_ages['Sex'] == row['Sex']) \n",
    "                                  & (median_ages['Pclass'] == row['Pclass'])]['Age'].values[0]\n",
    "            return row['Age']\n",
    "        median_ages = X.groupby(['Sex', 'Pclass']).median().reset_index()[['Sex', 'Pclass', 'Age']]\n",
    "        filled_age = X.apply(lambda row: _fill_age_median_row(row), axis=1)\n",
    "        return filled_age.to_numpy().reshape(-1, 1)\n",
    "\n",
    "age_pipeline = make_pipeline(CategoryMedianAgeTransformer(), StandardScaler())\n",
    "\n",
    "feature_engineering_col_transformer_category_median_age = ColumnTransformer(\n",
    "    [('age_transformer', age_pipeline, ['Age', 'Sex', 'Pclass'])], \n",
    "    remainder='drop'\n",
    ")\n",
    "\n",
    "feature_engineering_union_transformer = make_union(feature_engineering_col_transformer_wo_age, \n",
    "                                                   feature_engineering_col_transformer_category_median_age)\n",
    "\n",
    "log.info(\"X's transformed shape with category median age: %s\", feature_engineering_union_transformer.fit_transform(X).shape)"
   ]
  },
  {
   "cell_type": "markdown",
   "metadata": {},
   "source": [
    "## Pipeline"
   ]
  },
  {
   "cell_type": "code",
   "execution_count": 10,
   "metadata": {},
   "outputs": [],
   "source": [
    "def csv_predictions(predictions, filename):\n",
    "    submission = pd.DataFrame({'PassengerId': args.raw_test['PassengerId'],'Survived': predictions})\n",
    "\n",
    "    submission.to_csv(filename, index=False)\n",
    "    print('Saved file: ' + filename)"
   ]
  },
  {
   "cell_type": "code",
   "execution_count": 11,
   "metadata": {},
   "outputs": [
    {
     "name": "stderr",
     "output_type": "stream",
     "text": [
      "2020-11-28 19:07:16,039 : INFO : Feature importances: [('Title_Mr', 0.33), ('Sex', 0.237), ('Pclass_3', 0.115), ('Pclass_1', 0.041), ('Fare', 0.039), ('FamilySize_l', 0.039), ('Pclass_2', 0.032), ('Title_Master', 0.029), ('Title_Mrs', 0.026), ('Title_Officer', 0.026), ('Age', 0.015), ('Embarked_S', 0.014), ('Embarked_C', 0.011), ('FamilySize_m', 0.01), ('Title_Miss', 0.008), ('Embarked_Q', 0.008), ('FamilySize_s', 0.006), ('Ticket_S', 0.005), ('Ticket_P', 0.004), ('Ticket_digit', 0.003), ('Ticket_C', 0.001), ('Title_Royalty', 0.0), ('Ticket_A', 0.0), ('Ticket_F', 0.0), ('Ticket_L', 0.0), ('Ticket_W', 0.0)]\n"
     ]
    },
    {
     "name": "stdout",
     "output_type": "stream",
     "text": [
      "Saved file: ../predictions/titanic-pipeline-median-age-extra-trees.csv\n"
     ]
    }
   ],
   "source": [
    "# median age\n",
    "from sklearn.ensemble import ExtraTreesClassifier\n",
    "\n",
    "pipeline_clf = ExtraTreesClassifier(random_state=args.seed, n_jobs=-1, \n",
    "                                    **{'max_depth': 20, 'max_features': 11, 'min_samples_leaf': 7, 'n_estimators': 10})\n",
    "\n",
    "titanic_pipeline = Pipeline(\n",
    "    steps=[\n",
    "        ('feature-engineering', feature_engineering_col_transformer),\n",
    "        ('clf', pipeline_clf)\n",
    "    ]\n",
    ")\n",
    "\n",
    "titanic_pipeline.fit(X, y)\n",
    "\n",
    "def get_feature_names(pipeline):\n",
    "    feature_names = []\n",
    "    for transformer in pipeline.named_steps['feature-engineering'].transformers_:\n",
    "        if 'transformer' not in transformer[0]:\n",
    "            continue\n",
    "        transformer_class = transformer[1]\n",
    "        if type(transformer_class) is OneHotEncoder:\n",
    "            feature_names.extend(transformer_class.get_feature_names(transformer[2]).tolist())\n",
    "        elif type(transformer_class) is Pipeline:\n",
    "            if transformer[2][0] is 'SibSp':\n",
    "                feature_names.extend(transformer_class.steps[-1][-1].get_feature_names(['FamilySize']).tolist())\n",
    "            elif transformer[2][0] is 'Name':\n",
    "                feature_names.extend(transformer_class.steps[-1][-1].get_feature_names(['Title']).tolist())\n",
    "            elif type(transformer_class.steps[-1][-1]) is OneHotEncoder:\n",
    "                for col_name in transformer[2]:\n",
    "                    feature_names.extend(transformer_class.steps[-1][-1].get_feature_names([col_name]).tolist())\n",
    "            else:\n",
    "                feature_names.extend(transformer[2])\n",
    "        else:\n",
    "            feature_names.extend(transformer[2])\n",
    "    assert len(feature_names) == 26\n",
    "    return feature_names\n",
    "\n",
    "def print_feature_importances(pipeline):\n",
    "    fi = [fi for fi in zip(get_feature_names(pipeline), \n",
    "                                    pipeline.named_steps['clf'].feature_importances_.tolist())]\n",
    "    fi = list(map(lambda i: (i[0], round(i[-1], 3)), fi))\n",
    "    fi = sorted(fi, key=lambda i: i[-1], reverse=True)\n",
    "    log.info(\"Feature importances: %s\", repr(fi))\n",
    "             \n",
    "print_feature_importances(titanic_pipeline)\n",
    "\n",
    "predictions_pipeline = titanic_pipeline.predict(X_test).astype(int)\n",
    "csv_predictions(predictions_pipeline, '../predictions/titanic-pipeline-median-age-extra-trees.csv')"
   ]
  },
  {
   "cell_type": "code",
   "execution_count": 12,
   "metadata": {},
   "outputs": [
    {
     "name": "stdout",
     "output_type": "stream",
     "text": [
      "Saved file: ../predictions/titanic-pipeline-category-median-age-extra-trees.csv\n"
     ]
    }
   ],
   "source": [
    "# category median age\n",
    "titanic_pipeline = Pipeline(\n",
    "    steps=[\n",
    "        ('feature-engineering', feature_engineering_union_transformer),\n",
    "        ('clf', pipeline_clf)\n",
    "    ]\n",
    ")\n",
    "\n",
    "titanic_pipeline.fit(X, y)\n",
    "predictions_pipeline = titanic_pipeline.predict(X_test).astype(int)\n",
    "csv_predictions(predictions_pipeline, '../predictions/titanic-pipeline-category-median-age-extra-trees.csv')"
   ]
  },
  {
   "cell_type": "markdown",
   "metadata": {},
   "source": [
    "## Gridsearch pipeline"
   ]
  },
  {
   "cell_type": "code",
   "execution_count": 13,
   "metadata": {},
   "outputs": [
    {
     "name": "stdout",
     "output_type": "stream",
     "text": [
      "Fitting 5 folds for each of 24 candidates, totalling 120 fits\n"
     ]
    },
    {
     "name": "stderr",
     "output_type": "stream",
     "text": [
      "[Parallel(n_jobs=-1)]: Using backend LokyBackend with 4 concurrent workers.\n",
      "[Parallel(n_jobs=-1)]: Done  42 tasks      | elapsed:   10.2s\n",
      "[Parallel(n_jobs=-1)]: Done 120 out of 120 | elapsed:   21.6s finished\n",
      "2020-11-28 19:07:39,787 : INFO : Clf: 'SVC'. CV score: 0.8204506936162199.\n",
      "[Parallel(n_jobs=-1)]: Using backend LokyBackend with 4 concurrent workers.\n"
     ]
    },
    {
     "name": "stdout",
     "output_type": "stream",
     "text": [
      "Fitting 5 folds for each of 108 candidates, totalling 540 fits\n"
     ]
    },
    {
     "name": "stderr",
     "output_type": "stream",
     "text": [
      "[Parallel(n_jobs=-1)]: Done  42 tasks      | elapsed:    7.1s\n",
      "[Parallel(n_jobs=-1)]: Done 192 tasks      | elapsed:   31.7s\n",
      "[Parallel(n_jobs=-1)]: Done 442 tasks      | elapsed:  1.2min\n",
      "[Parallel(n_jobs=-1)]: Done 540 out of 540 | elapsed:  1.5min finished\n",
      "2020-11-28 19:09:10,288 : INFO : Clf: 'RandomForestClassifier'. CV score: 0.8327914129684263.\n",
      "[Parallel(n_jobs=-1)]: Using backend LokyBackend with 4 concurrent workers.\n"
     ]
    },
    {
     "name": "stdout",
     "output_type": "stream",
     "text": [
      "Fitting 5 folds for each of 108 candidates, totalling 540 fits\n"
     ]
    },
    {
     "name": "stderr",
     "output_type": "stream",
     "text": [
      "[Parallel(n_jobs=-1)]: Done  42 tasks      | elapsed:    6.3s\n",
      "[Parallel(n_jobs=-1)]: Done 192 tasks      | elapsed:   29.6s\n",
      "[Parallel(n_jobs=-1)]: Done 442 tasks      | elapsed:  1.1min\n",
      "[Parallel(n_jobs=-1)]: Done 540 out of 540 | elapsed:  1.4min finished\n",
      "2020-11-28 19:10:35,478 : INFO : Clf: 'ExtraTreesClassifier'. CV score: 0.826062394074446.\n",
      "[Parallel(n_jobs=-1)]: Using backend LokyBackend with 4 concurrent workers.\n"
     ]
    },
    {
     "name": "stdout",
     "output_type": "stream",
     "text": [
      "Fitting 5 folds for each of 96 candidates, totalling 480 fits\n"
     ]
    },
    {
     "name": "stderr",
     "output_type": "stream",
     "text": [
      "[Parallel(n_jobs=-1)]: Done  42 tasks      | elapsed:  1.2min\n",
      "[Parallel(n_jobs=-1)]: Done 192 tasks      | elapsed:  4.2min\n",
      "[Parallel(n_jobs=-1)]: Done 442 tasks      | elapsed:  7.8min\n",
      "[Parallel(n_jobs=-1)]: Done 480 out of 480 | elapsed:  7.9min finished\n",
      "/Users/glaizier/github/titanic-prediction/.venv/lib/python3.7/site-packages/sklearn/neural_network/_multilayer_perceptron.py:585: ConvergenceWarning: Stochastic Optimizer: Maximum iterations (250) reached and the optimization hasn't converged yet.\n",
      "  % self.max_iter, ConvergenceWarning)\n",
      "2020-11-28 19:18:34,161 : INFO : Clf: 'MLPClassifier'. CV score: 0.8271922666499278.\n",
      "[Parallel(n_jobs=-1)]: Using backend LokyBackend with 4 concurrent workers.\n"
     ]
    },
    {
     "name": "stdout",
     "output_type": "stream",
     "text": [
      "Fitting 5 folds for each of 72 candidates, totalling 360 fits\n"
     ]
    },
    {
     "name": "stderr",
     "output_type": "stream",
     "text": [
      "[Parallel(n_jobs=-1)]: Done  42 tasks      | elapsed:    8.5s\n",
      "[Parallel(n_jobs=-1)]: Done 192 tasks      | elapsed:   36.7s\n",
      "[Parallel(n_jobs=-1)]: Done 360 out of 360 | elapsed:  1.1min finished\n",
      "2020-11-28 19:19:40,483 : INFO : Clf: 'XGBClassifier'. CV score: 0.827154604230745.\n",
      "2020-11-28 19:19:40,488 : INFO : BestPipeline(instance=Pipeline(steps=[('feature_engineering',\n",
      "                 ColumnTransformer(transformers=[('pclass_transformer',\n",
      "                                                  OneHotEncoder(), ['Pclass']),\n",
      "                                                 ('name_transformer',\n",
      "                                                  Pipeline(steps=[('nametotitletransformer',\n",
      "                                                                   NameToTitleTransformer()),\n",
      "                                                                  ('onehotencoder',\n",
      "                                                                   OneHotEncoder())]),\n",
      "                                                  ['Name']),\n",
      "                                                 ('sex_transformer',\n",
      "                                                  OrdinalEncoder(dtype='int'),\n",
      "                                                  ['Sex']),\n",
      "                                                 ('age_fare_transformer',\n",
      "                                                  Pipeline(steps=...\n",
      "                                                  Pipeline(steps=[('tickettransformer',\n",
      "                                                                   TicketTransformer()),\n",
      "                                                                  ('onehotencoder',\n",
      "                                                                   OneHotEncoder())]),\n",
      "                                                  ['Ticket']),\n",
      "                                                 ('embarked_transformer',\n",
      "                                                  Pipeline(steps=[('simpleimputer',\n",
      "                                                                   SimpleImputer(strategy='most_frequent')),\n",
      "                                                                  ('onehotencoder',\n",
      "                                                                   OneHotEncoder())]),\n",
      "                                                  ['Embarked'])])),\n",
      "                ('clf',\n",
      "                 RandomForestClassifier(max_depth=25, max_features=10,\n",
      "                                        min_samples_leaf=5, n_estimators=50,\n",
      "                                        random_state=101))]), cv_score=0.8327914129684263)\n",
      "2020-11-28 19:19:41,327 : INFO : Feature importances: array([0.03290603, 0.02247577, 0.07699797, 0.01403047, 0.03539155,\n",
      "       0.22884634, 0.03482769, 0.01206314, 0.        , 0.19797941,\n",
      "       0.09407062, 0.14456111, 0.02161396, 0.02190409, 0.01250516,\n",
      "       0.00146721, 0.00097224, 0.        , 0.        , 0.00311505,\n",
      "       0.00662686, 0.        , 0.00800715, 0.00890152, 0.00506924,\n",
      "       0.01566743])\n"
     ]
    },
    {
     "name": "stdout",
     "output_type": "stream",
     "text": [
      "Saved file: ../predictions/titanic-pipeline-grd.csv\n"
     ]
    }
   ],
   "source": [
    "# look for the best params\n",
    "from sklearn.model_selection import StratifiedKFold, GridSearchCV\n",
    "from sklearn.svm import SVC\n",
    "from sklearn.ensemble import ExtraTreesClassifier, RandomForestClassifier\n",
    "from sklearn.neural_network import MLPClassifier\n",
    "from xgboost import XGBClassifier\n",
    "from collections import namedtuple\n",
    "\n",
    "\n",
    "svm = SVC(random_state=args.seed)\n",
    "rf = RandomForestClassifier(random_state=args.seed)\n",
    "et =  ExtraTreesClassifier(random_state=args.seed)\n",
    "mlp = MLPClassifier(random_state=args.seed)\n",
    "xgb = XGBClassifier(random_state=args.seed)\n",
    "\n",
    "clfs = [svm, rf, et, mlp, xgb]\n",
    "param_grids = [\n",
    "    {\n",
    "        'clf__C': [1, 10],\n",
    "        'clf__kernel': ['linear', 'rbf', 'poly'],\n",
    "        'clf__gamma': [0.01, 0.001]\n",
    "    },\n",
    "    {\n",
    "        'clf__n_estimators': [15, 25, 50],\n",
    "        'clf__max_features': [5, 7, 10],\n",
    "        'clf__min_samples_leaf': [1, 3, 5],\n",
    "        'clf__max_depth': [25, 40]\n",
    "    },\n",
    "    {\n",
    "        'clf__n_estimators': [15, 25, 50],\n",
    "        'clf__max_features': [5, 7, 10],\n",
    "        'clf__min_samples_leaf': [1, 3, 5],\n",
    "        'clf__max_depth': [25, 40]\n",
    "    },\n",
    "    {\n",
    "        'clf__hidden_layer_sizes': [(128, ), (512, 64, ), (128, 16), (16, 4)],\n",
    "        'clf__alpha': [0.01, 1],\n",
    "        'clf__max_iter': [50, 250, 500],\n",
    "        'clf__early_stopping': [False, True]\n",
    "    },\n",
    "    {\n",
    "        'clf__n_estimators': [15, 25, 50],\n",
    "        'clf__max_depth': [25, 40],\n",
    "        'clf__learning_rate': [0.001, 0.1],\n",
    "        'clf__booster': ['gbtree', 'gblinear', 'dart'],\n",
    "    }\n",
    "]\n",
    "\n",
    "BestPipeline = namedtuple('BestPipeline', 'instance cv_score')\n",
    "best_pipeline = BestPipeline(None, float(\"-inf\"))\n",
    "\n",
    "for clf, clf_params in zip(clfs, param_grids):\n",
    "    titanic_pipeline = Pipeline(\n",
    "        steps=[\n",
    "            ('feature_engineering', feature_engineering_col_transformer),\n",
    "            ('clf', clf)\n",
    "        ]\n",
    "    )\n",
    "    params_grid = {\n",
    "        'feature_engineering': [feature_engineering_col_transformer, feature_engineering_union_transformer]\n",
    "    }\n",
    "    params_grid.update(clf_params)\n",
    "    skf = StratifiedKFold(n_splits=args.splits, shuffle=True, random_state=args.seed)\n",
    "    grd = GridSearchCV(titanic_pipeline, param_grid = params_grid, cv=skf, verbose=1, n_jobs=args.n_jobs)\n",
    "    grd.fit(X, y)\n",
    "    log.info('Clf: %s. CV score: %s.', \n",
    "             repr(type(grd.best_estimator_.named_steps.clf).__name__), \n",
    "             repr(grd.best_score_))\n",
    "    if grd.best_score_ > best_pipeline.cv_score:\n",
    "        best_pipeline = BestPipeline(grd.best_estimator_, grd.best_score_)\n",
    "    \n",
    "\n",
    "log.info(best_pipeline)\n",
    "if type(best_pipeline.instance.named_steps['clf']).__name__ is 'RandomForestClassifier' or \\\n",
    "    type(best_pipeline.instance.named_steps['clf']).__name__ is 'ExtraTreesClassifier':\n",
    "    log.info(\"Feature importances: %s\", repr(best_pipeline.instance.named_steps['clf'].feature_importances_))\n",
    "predictions_pipeline = best_pipeline.instance.predict(X_test).astype(int)\n",
    "csv_predictions(predictions_pipeline, '../predictions/titanic-pipeline-grd.csv')"
   ]
  },
  {
   "cell_type": "markdown",
   "metadata": {},
   "source": [
    "#### Test score pipeline\n",
    "\n",
    "|  Model | Params | Test score |\n",
    "|---|---|---|\n",
    "| Extra trees (median age) | 'max_depth': 20, 'max_features': 11, 'min_samples_leaf': 7, 'n_estimators': 10 |  0.78468 |\n",
    "| Extra trees (category median age) | 'max_depth': 20, 'max_features': 11, 'min_samples_leaf': 7, 'n_estimators': 10 | 0.77272 |\n",
    "| Grid search (random forest, median age) | max_depth=25, max_features=10, min_samples_leaf=3, n_estimators=50 | 0.76794 |"
   ]
  }
 ],
 "metadata": {
  "kernelspec": {
   "display_name": "Python 3",
   "language": "python",
   "name": "python3"
  },
  "language_info": {
   "codemirror_mode": {
    "name": "ipython",
    "version": 3
   },
   "file_extension": ".py",
   "mimetype": "text/x-python",
   "name": "python",
   "nbconvert_exporter": "python",
   "pygments_lexer": "ipython3",
   "version": "3.8.6"
  }
 },
 "nbformat": 4,
 "nbformat_minor": 2
}
