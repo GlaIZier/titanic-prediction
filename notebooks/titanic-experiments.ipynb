{
 "cells": [
  {
   "cell_type": "markdown",
   "metadata": {},
   "source": [
    "## Data"
   ]
  },
  {
   "cell_type": "code",
   "execution_count": 1,
   "metadata": {},
   "outputs": [],
   "source": [
    "import pandas as pd\n",
    "\n",
    "from matplotlib import pyplot as plt\n",
    "import pylab as plot\n",
    "import logging\n",
    "\n",
    "\n",
    "pd.options.display.max_columns = 100\n",
    "logging.basicConfig(format='%(asctime)s : %(levelname)s : %(message)s', level=logging.INFO)\n",
    "log = logging.getLogger()"
   ]
  },
  {
   "cell_type": "code",
   "execution_count": 2,
   "metadata": {},
   "outputs": [],
   "source": [
    "import argparse\n",
    "args = argparse.Namespace()\n",
    "args.raw_train = pd.read_csv(\"../data/train.csv\")\n",
    "args.raw_test = pd.read_csv(\"../data/test.csv\")\n",
    "args.train_border_index = 891\n",
    "args.val_border_index = 265\n",
    "args.splits = 5\n",
    "args.seed = 101\n",
    "args.n_jobs = -1"
   ]
  },
  {
   "cell_type": "code",
   "execution_count": 3,
   "metadata": {},
   "outputs": [
    {
     "name": "stdout",
     "output_type": "stream",
     "text": [
      "(891, 12)\n"
     ]
    },
    {
     "data": {
      "text/html": [
       "<div>\n",
       "<style scoped>\n",
       "    .dataframe tbody tr th:only-of-type {\n",
       "        vertical-align: middle;\n",
       "    }\n",
       "\n",
       "    .dataframe tbody tr th {\n",
       "        vertical-align: top;\n",
       "    }\n",
       "\n",
       "    .dataframe thead th {\n",
       "        text-align: right;\n",
       "    }\n",
       "</style>\n",
       "<table border=\"1\" class=\"dataframe\">\n",
       "  <thead>\n",
       "    <tr style=\"text-align: right;\">\n",
       "      <th></th>\n",
       "      <th>PassengerId</th>\n",
       "      <th>Survived</th>\n",
       "      <th>Pclass</th>\n",
       "      <th>Name</th>\n",
       "      <th>Sex</th>\n",
       "      <th>Age</th>\n",
       "      <th>SibSp</th>\n",
       "      <th>Parch</th>\n",
       "      <th>Ticket</th>\n",
       "      <th>Fare</th>\n",
       "      <th>Cabin</th>\n",
       "      <th>Embarked</th>\n",
       "    </tr>\n",
       "  </thead>\n",
       "  <tbody>\n",
       "    <tr>\n",
       "      <th>0</th>\n",
       "      <td>1</td>\n",
       "      <td>0</td>\n",
       "      <td>3</td>\n",
       "      <td>Braund, Mr. Owen Harris</td>\n",
       "      <td>male</td>\n",
       "      <td>22.0</td>\n",
       "      <td>1</td>\n",
       "      <td>0</td>\n",
       "      <td>A/5 21171</td>\n",
       "      <td>7.2500</td>\n",
       "      <td>NaN</td>\n",
       "      <td>S</td>\n",
       "    </tr>\n",
       "    <tr>\n",
       "      <th>1</th>\n",
       "      <td>2</td>\n",
       "      <td>1</td>\n",
       "      <td>1</td>\n",
       "      <td>Cumings, Mrs. John Bradley (Florence Briggs Th...</td>\n",
       "      <td>female</td>\n",
       "      <td>38.0</td>\n",
       "      <td>1</td>\n",
       "      <td>0</td>\n",
       "      <td>PC 17599</td>\n",
       "      <td>71.2833</td>\n",
       "      <td>C85</td>\n",
       "      <td>C</td>\n",
       "    </tr>\n",
       "    <tr>\n",
       "      <th>2</th>\n",
       "      <td>3</td>\n",
       "      <td>1</td>\n",
       "      <td>3</td>\n",
       "      <td>Heikkinen, Miss. Laina</td>\n",
       "      <td>female</td>\n",
       "      <td>26.0</td>\n",
       "      <td>0</td>\n",
       "      <td>0</td>\n",
       "      <td>STON/O2. 3101282</td>\n",
       "      <td>7.9250</td>\n",
       "      <td>NaN</td>\n",
       "      <td>S</td>\n",
       "    </tr>\n",
       "    <tr>\n",
       "      <th>3</th>\n",
       "      <td>4</td>\n",
       "      <td>1</td>\n",
       "      <td>1</td>\n",
       "      <td>Futrelle, Mrs. Jacques Heath (Lily May Peel)</td>\n",
       "      <td>female</td>\n",
       "      <td>35.0</td>\n",
       "      <td>1</td>\n",
       "      <td>0</td>\n",
       "      <td>113803</td>\n",
       "      <td>53.1000</td>\n",
       "      <td>C123</td>\n",
       "      <td>S</td>\n",
       "    </tr>\n",
       "    <tr>\n",
       "      <th>4</th>\n",
       "      <td>5</td>\n",
       "      <td>0</td>\n",
       "      <td>3</td>\n",
       "      <td>Allen, Mr. William Henry</td>\n",
       "      <td>male</td>\n",
       "      <td>35.0</td>\n",
       "      <td>0</td>\n",
       "      <td>0</td>\n",
       "      <td>373450</td>\n",
       "      <td>8.0500</td>\n",
       "      <td>NaN</td>\n",
       "      <td>S</td>\n",
       "    </tr>\n",
       "  </tbody>\n",
       "</table>\n",
       "</div>"
      ],
      "text/plain": [
       "   PassengerId  Survived  Pclass  \\\n",
       "0            1         0       3   \n",
       "1            2         1       1   \n",
       "2            3         1       3   \n",
       "3            4         1       1   \n",
       "4            5         0       3   \n",
       "\n",
       "                                                Name     Sex   Age  SibSp  \\\n",
       "0                            Braund, Mr. Owen Harris    male  22.0      1   \n",
       "1  Cumings, Mrs. John Bradley (Florence Briggs Th...  female  38.0      1   \n",
       "2                             Heikkinen, Miss. Laina  female  26.0      0   \n",
       "3       Futrelle, Mrs. Jacques Heath (Lily May Peel)  female  35.0      1   \n",
       "4                           Allen, Mr. William Henry    male  35.0      0   \n",
       "\n",
       "   Parch            Ticket     Fare Cabin Embarked  \n",
       "0      0         A/5 21171   7.2500   NaN        S  \n",
       "1      0          PC 17599  71.2833   C85        C  \n",
       "2      0  STON/O2. 3101282   7.9250   NaN        S  \n",
       "3      0            113803  53.1000  C123        S  \n",
       "4      0            373450   8.0500   NaN        S  "
      ]
     },
     "execution_count": 3,
     "metadata": {},
     "output_type": "execute_result"
    }
   ],
   "source": [
    "print(args.raw_train.shape)\n",
    "args.raw_train.head()"
   ]
  },
  {
   "cell_type": "code",
   "execution_count": 4,
   "metadata": {},
   "outputs": [
    {
     "name": "stdout",
     "output_type": "stream",
     "text": [
      "(418, 11)\n"
     ]
    },
    {
     "data": {
      "text/html": [
       "<div>\n",
       "<style scoped>\n",
       "    .dataframe tbody tr th:only-of-type {\n",
       "        vertical-align: middle;\n",
       "    }\n",
       "\n",
       "    .dataframe tbody tr th {\n",
       "        vertical-align: top;\n",
       "    }\n",
       "\n",
       "    .dataframe thead th {\n",
       "        text-align: right;\n",
       "    }\n",
       "</style>\n",
       "<table border=\"1\" class=\"dataframe\">\n",
       "  <thead>\n",
       "    <tr style=\"text-align: right;\">\n",
       "      <th></th>\n",
       "      <th>PassengerId</th>\n",
       "      <th>Pclass</th>\n",
       "      <th>Name</th>\n",
       "      <th>Sex</th>\n",
       "      <th>Age</th>\n",
       "      <th>SibSp</th>\n",
       "      <th>Parch</th>\n",
       "      <th>Ticket</th>\n",
       "      <th>Fare</th>\n",
       "      <th>Cabin</th>\n",
       "      <th>Embarked</th>\n",
       "    </tr>\n",
       "  </thead>\n",
       "  <tbody>\n",
       "    <tr>\n",
       "      <th>0</th>\n",
       "      <td>892</td>\n",
       "      <td>3</td>\n",
       "      <td>Kelly, Mr. James</td>\n",
       "      <td>male</td>\n",
       "      <td>34.5</td>\n",
       "      <td>0</td>\n",
       "      <td>0</td>\n",
       "      <td>330911</td>\n",
       "      <td>7.8292</td>\n",
       "      <td>NaN</td>\n",
       "      <td>Q</td>\n",
       "    </tr>\n",
       "    <tr>\n",
       "      <th>1</th>\n",
       "      <td>893</td>\n",
       "      <td>3</td>\n",
       "      <td>Wilkes, Mrs. James (Ellen Needs)</td>\n",
       "      <td>female</td>\n",
       "      <td>47.0</td>\n",
       "      <td>1</td>\n",
       "      <td>0</td>\n",
       "      <td>363272</td>\n",
       "      <td>7.0000</td>\n",
       "      <td>NaN</td>\n",
       "      <td>S</td>\n",
       "    </tr>\n",
       "    <tr>\n",
       "      <th>2</th>\n",
       "      <td>894</td>\n",
       "      <td>2</td>\n",
       "      <td>Myles, Mr. Thomas Francis</td>\n",
       "      <td>male</td>\n",
       "      <td>62.0</td>\n",
       "      <td>0</td>\n",
       "      <td>0</td>\n",
       "      <td>240276</td>\n",
       "      <td>9.6875</td>\n",
       "      <td>NaN</td>\n",
       "      <td>Q</td>\n",
       "    </tr>\n",
       "    <tr>\n",
       "      <th>3</th>\n",
       "      <td>895</td>\n",
       "      <td>3</td>\n",
       "      <td>Wirz, Mr. Albert</td>\n",
       "      <td>male</td>\n",
       "      <td>27.0</td>\n",
       "      <td>0</td>\n",
       "      <td>0</td>\n",
       "      <td>315154</td>\n",
       "      <td>8.6625</td>\n",
       "      <td>NaN</td>\n",
       "      <td>S</td>\n",
       "    </tr>\n",
       "    <tr>\n",
       "      <th>4</th>\n",
       "      <td>896</td>\n",
       "      <td>3</td>\n",
       "      <td>Hirvonen, Mrs. Alexander (Helga E Lindqvist)</td>\n",
       "      <td>female</td>\n",
       "      <td>22.0</td>\n",
       "      <td>1</td>\n",
       "      <td>1</td>\n",
       "      <td>3101298</td>\n",
       "      <td>12.2875</td>\n",
       "      <td>NaN</td>\n",
       "      <td>S</td>\n",
       "    </tr>\n",
       "  </tbody>\n",
       "</table>\n",
       "</div>"
      ],
      "text/plain": [
       "   PassengerId  Pclass                                          Name     Sex  \\\n",
       "0          892       3                              Kelly, Mr. James    male   \n",
       "1          893       3              Wilkes, Mrs. James (Ellen Needs)  female   \n",
       "2          894       2                     Myles, Mr. Thomas Francis    male   \n",
       "3          895       3                              Wirz, Mr. Albert    male   \n",
       "4          896       3  Hirvonen, Mrs. Alexander (Helga E Lindqvist)  female   \n",
       "\n",
       "    Age  SibSp  Parch   Ticket     Fare Cabin Embarked  \n",
       "0  34.5      0      0   330911   7.8292   NaN        Q  \n",
       "1  47.0      1      0   363272   7.0000   NaN        S  \n",
       "2  62.0      0      0   240276   9.6875   NaN        Q  \n",
       "3  27.0      0      0   315154   8.6625   NaN        S  \n",
       "4  22.0      1      1  3101298  12.2875   NaN        S  "
      ]
     },
     "execution_count": 4,
     "metadata": {},
     "output_type": "execute_result"
    }
   ],
   "source": [
    "print(args.raw_test.shape)\n",
    "args.raw_test.head()"
   ]
  },
  {
   "cell_type": "markdown",
   "metadata": {},
   "source": [
    "### Unknown data"
   ]
  },
  {
   "cell_type": "code",
   "execution_count": 5,
   "metadata": {
    "scrolled": true
   },
   "outputs": [
    {
     "data": {
      "image/png": "[encoded data removed]",
      "text/plain": [
       "<Figure size 1800x504 with 1 Axes>"
      ]
     },
     "metadata": {
      "needs_background": "light"
     },
     "output_type": "display_data"
    }
   ],
   "source": [
    "ax = args.raw_train.isna().sum().plot(kind='bar', figsize=(25, 7), stacked=True, title='Train set: total empty cells')\n",
    "for p in ax.patches:\n",
    "    ax.annotate(str(p.get_height()), (p.get_x() * 1.005, p.get_height() * 1.005))"
   ]
  },
  {
   "cell_type": "code",
   "execution_count": 6,
   "metadata": {
    "scrolled": true
   },
   "outputs": [
    {
     "data": {
      "image/png": "[encoded data removed]",
      "text/plain": [
       "<Figure size 1800x504 with 1 Axes>"
      ]
     },
     "metadata": {
      "needs_background": "light"
     },
     "output_type": "display_data"
    }
   ],
   "source": [
    "ax = args.raw_test.isna().sum().plot(kind='bar', figsize=(25, 7), stacked=True, title='Train set: total empty cells')\n",
    "for p in ax.patches:\n",
    "    ax.annotate(str(p.get_height()), (p.get_x() * 1.005, p.get_height() * 1.005))"
   ]
  },
  {
   "cell_type": "markdown",
   "metadata": {},
   "source": [
    "## Feature engineering"
   ]
  },
  {
   "cell_type": "code",
   "execution_count": 7,
   "metadata": {},
   "outputs": [],
   "source": [
    "X = args.raw_train.copy().drop('Survived', axis=1)\n",
    "y = args.raw_train.copy()['Survived']\n",
    "X_test = args.raw_test.copy()"
   ]
  },
  {
   "cell_type": "code",
   "execution_count": 8,
   "metadata": {},
   "outputs": [
    {
     "name": "stdout",
     "output_type": "stream",
     "text": [
      "X's transformed shape: (891, 26)\n"
     ]
    }
   ],
   "source": [
    "# median age\n",
    "\n",
    "import numpy as np\n",
    "from sklearn.pipeline import make_union, Pipeline, make_pipeline\n",
    "from sklearn.compose import ColumnTransformer\n",
    "from sklearn.base import BaseEstimator, TransformerMixin\n",
    "from sklearn.preprocessing import OneHotEncoder, OrdinalEncoder, StandardScaler\n",
    "from sklearn.impute import SimpleImputer\n",
    "from functools import reduce\n",
    "import re\n",
    "\n",
    "class NameToTitleTransformer(BaseEstimator, TransformerMixin):\n",
    "    def fit(self, X, y=None):\n",
    "        return self\n",
    "    def transform(self, X):\n",
    "        names = X.to_numpy().reshape(len(X),)\n",
    "    \n",
    "        title_dictionary = {\n",
    "            \"Capt\": \"Officer\",\n",
    "            \"Col\": \"Officer\",\n",
    "            \"Major\": \"Officer\",\n",
    "            \"Jonkheer\": \"Royalty\",\n",
    "            \"Don\": \"Royalty\",\n",
    "            \"Sir\": \"Royalty\",\n",
    "            \"Dr\": \"Officer\",\n",
    "            \"Rev\": \"Officer\",\n",
    "            \"the Countess\": \"Royalty\",\n",
    "            \"Mme\": \"Mrs\",\n",
    "            \"Mlle\": \"Miss\",\n",
    "            \"Ms\": \"Mrs\",\n",
    "            \"Mr\": \"Mr\",\n",
    "            \"Mrs\": \"Mrs\",\n",
    "            \"Miss\": \"Miss\",\n",
    "            \"Master\": \"Master\",\n",
    "            \"Lady\": \"Royalty\"\n",
    "        }\n",
    "        titles = [fullname.split(',')[1].split('.')[0].strip() for fullname in names]\n",
    "        short_titles = [title_dictionary.get(title, \"Royalty\") for title in titles]\n",
    "        return np.array(short_titles).reshape(len(short_titles), 1)\n",
    "\n",
    "class SibspParchToFamilySizeTransformer(BaseEstimator, TransformerMixin):\n",
    "    def fit(self, X, y=None):\n",
    "        return self\n",
    "    def transform(self, X):\n",
    "        def _categorize_family_size(family_size_row):\n",
    "            s_size = 0\n",
    "            m_size = 4\n",
    "            family_size = reduce(lambda x, y:x+y, family_size_row)\n",
    "            if family_size == s_size:\n",
    "                return 's'\n",
    "            elif family_size <= m_size:\n",
    "                return 'm'\n",
    "            else:\n",
    "                return 'l'\n",
    "        family_size_categories = list(map(_categorize_family_size, np.asarray(X.to_numpy())))\n",
    "        return np.array(family_size_categories).reshape(len(family_size_categories), 1)\n",
    "\n",
    "class TicketTransformer(BaseEstimator, TransformerMixin):\n",
    "    def fit(self, X, y=None):\n",
    "        return self\n",
    "    def transform(self, X):\n",
    "        def _clean_ticket(ticket):\n",
    "            # replace all special chars\n",
    "            ticket = re.sub('[^a-zA-Z0-9]', '', ticket)\n",
    "            if ticket[0].isdigit():\n",
    "                return 'digit'\n",
    "            return ticket[0]\n",
    "        ticket_categories = list(map(_clean_ticket, np.asarray(X.to_numpy().reshape(len(X),))))\n",
    "        return np.array(ticket_categories).reshape(len(ticket_categories), 1)\n",
    "    \n",
    "\n",
    "\n",
    "pclass_pipeline = OneHotEncoder(categories='auto')\n",
    "name_pipeline = make_pipeline(NameToTitleTransformer(), OneHotEncoder(categories='auto'))\n",
    "sex_pipeline = OrdinalEncoder(dtype='int')\n",
    "age_fare_pipeline = make_pipeline(SimpleImputer(strategy='median'), StandardScaler())\n",
    "sibsp_parch_pipeline = make_pipeline(SibspParchToFamilySizeTransformer(), OneHotEncoder(categories='auto'))\n",
    "ticket_pipeline = make_pipeline(TicketTransformer(), OneHotEncoder(categories='auto'))\n",
    "embarked_pipeline = make_pipeline(SimpleImputer(strategy='most_frequent'), OneHotEncoder(categories='auto'))\n",
    "\n",
    "feature_engineering_col_transformer = ColumnTransformer(\n",
    "    [('pclass_transformer', pclass_pipeline, ['Pclass']),\n",
    "     ('name_transformer', name_pipeline, ['Name']),\n",
    "     ('sex_transformer', sex_pipeline, ['Sex']),\n",
    "     ('age_fare_transformer', age_fare_pipeline, ['Age', 'Fare']),\n",
    "     ('sibsp_parch_transformer', sibsp_parch_pipeline, ['SibSp', 'Parch']),\n",
    "     ('ticket_transformer', ticket_pipeline, ['Ticket']),\n",
    "     ('embarked_transformer', embarked_pipeline, ['Embarked'])], \n",
    "    remainder='drop'\n",
    ")\n",
    "\n",
    "print(\"X's transformed shape:\", feature_engineering_col_transformer.fit_transform(X).shape)"
   ]
  },
  {
   "cell_type": "markdown",
   "metadata": {},
   "source": [
    "## Pipeline baseline"
   ]
  },
  {
   "cell_type": "code",
   "execution_count": 9,
   "metadata": {},
   "outputs": [],
   "source": [
    "def csv_predictions(predictions, filename):\n",
    "    submission = pd.DataFrame({'PassengerId': args.raw_test['PassengerId'],'Survived': predictions})\n",
    "\n",
    "    submission.to_csv(filename, index=False)\n",
    "    print('Saved file: ' + filename)"
   ]
  },
  {
   "cell_type": "code",
   "execution_count": 10,
   "metadata": {},
   "outputs": [
    {
     "name": "stderr",
     "output_type": "stream",
     "text": [
      "<>:25: SyntaxWarning: \"is\" with a literal. Did you mean \"==\"?\n",
      "<>:27: SyntaxWarning: \"is\" with a literal. Did you mean \"==\"?\n",
      "<>:25: SyntaxWarning: \"is\" with a literal. Did you mean \"==\"?\n",
      "<>:27: SyntaxWarning: \"is\" with a literal. Did you mean \"==\"?\n",
      "<ipython-input-10-cc5ea02dec83>:25: SyntaxWarning: \"is\" with a literal. Did you mean \"==\"?\n",
      "  if transformer[2][0] is 'SibSp':\n",
      "<ipython-input-10-cc5ea02dec83>:27: SyntaxWarning: \"is\" with a literal. Did you mean \"==\"?\n",
      "  elif transformer[2][0] is 'Name':\n",
      "2020-12-19 20:54:55,063 : INFO : Feature importances: [('Title_Mr', 0.33), ('Sex', 0.237), ('Pclass_3', 0.115), ('Pclass_1', 0.041), ('Fare', 0.039), ('FamilySize_l', 0.039), ('Pclass_2', 0.032), ('Title_Master', 0.029), ('Title_Mrs', 0.026), ('Title_Officer', 0.026), ('Age', 0.015), ('Embarked_S', 0.014), ('Embarked_C', 0.011), ('FamilySize_m', 0.01), ('Title_Miss', 0.008), ('Embarked_Q', 0.008), ('FamilySize_s', 0.006), ('Ticket_S', 0.005), ('Ticket_P', 0.004), ('Ticket_digit', 0.003), ('Ticket_C', 0.001), ('Title_Royalty', 0.0), ('Ticket_A', 0.0), ('Ticket_F', 0.0), ('Ticket_L', 0.0), ('Ticket_W', 0.0)]\n"
     ]
    },
    {
     "name": "stdout",
     "output_type": "stream",
     "text": [
      "Saved file: ../predictions/titanic-experiments-baseline.csv\n"
     ]
    }
   ],
   "source": [
    "# median age\n",
    "from sklearn.ensemble import ExtraTreesClassifier\n",
    "\n",
    "pipeline_clf = ExtraTreesClassifier(random_state=args.seed, n_jobs=-1, \n",
    "                                    **{'max_depth': 20, 'max_features': 11, 'min_samples_leaf': 7, 'n_estimators': 10})\n",
    "\n",
    "titanic_pipeline_baseline = Pipeline(\n",
    "    steps=[\n",
    "        ('feature-engineering', feature_engineering_col_transformer),\n",
    "        ('clf', pipeline_clf)\n",
    "    ]\n",
    ")\n",
    "\n",
    "titanic_pipeline_baseline.fit(X, y)\n",
    "\n",
    "def get_feature_names(pipeline):\n",
    "    feature_names = []\n",
    "    for transformer in pipeline.named_steps['feature-engineering'].transformers_:\n",
    "        if 'transformer' not in transformer[0]:\n",
    "            continue\n",
    "        transformer_class = transformer[1]\n",
    "        if type(transformer_class) is OneHotEncoder:\n",
    "            feature_names.extend(transformer_class.get_feature_names(transformer[2]).tolist())\n",
    "        elif type(transformer_class) is Pipeline:\n",
    "            if transformer[2][0] is 'SibSp':\n",
    "                feature_names.extend(transformer_class.steps[-1][-1].get_feature_names(['FamilySize']).tolist())\n",
    "            elif transformer[2][0] is 'Name':\n",
    "                feature_names.extend(transformer_class.steps[-1][-1].get_feature_names(['Title']).tolist())\n",
    "            elif type(transformer_class.steps[-1][-1]) is OneHotEncoder:\n",
    "                for col_name in transformer[2]:\n",
    "                    feature_names.extend(transformer_class.steps[-1][-1].get_feature_names([col_name]).tolist())\n",
    "            else:\n",
    "                feature_names.extend(transformer[2])\n",
    "        else:\n",
    "            feature_names.extend(transformer[2])\n",
    "    assert len(feature_names) == 26\n",
    "    return feature_names\n",
    "\n",
    "def print_feature_importances(pipeline):\n",
    "    fi = [fi for fi in zip(get_feature_names(pipeline), \n",
    "                                    pipeline.named_steps['clf'].feature_importances_.tolist())]\n",
    "    fi = list(map(lambda i: (i[0], round(i[-1], 3)), fi))\n",
    "    fi = sorted(fi, key=lambda i: i[-1], reverse=True)\n",
    "    log.info(\"Feature importances: %s\", repr(fi))\n",
    "             \n",
    "print_feature_importances(titanic_pipeline_baseline)\n",
    "\n",
    "titanic_pipeline_baseline_predictions = titanic_pipeline_baseline.predict(X_test).astype(int)\n",
    "csv_predictions(titanic_pipeline_baseline_predictions, '../predictions/titanic-experiments-baseline.csv')"
   ]
  },
  {
   "cell_type": "markdown",
   "metadata": {},
   "source": [
    "#### Test score pipeline\n",
    "\n",
    "|  Model | Params | Test score |\n",
    "|---|---|---|\n",
    "| Extra trees (median age) | 'max_depth': 20, 'max_features': 11, 'min_samples_leaf': 7, 'n_estimators': 10 |  0.78468 |"
   ]
  },
  {
   "cell_type": "markdown",
   "metadata": {},
   "source": [
    "## Experiments"
   ]
  },
  {
   "cell_type": "markdown",
   "metadata": {},
   "source": [
    "### Metrics"
   ]
  },
  {
   "cell_type": "code",
   "execution_count": 11,
   "metadata": {},
   "outputs": [
    {
     "data": {
      "text/plain": [
       "array([0.79329609, 0.82022472, 0.82022472, 0.78651685, 0.84831461])"
      ]
     },
     "execution_count": 11,
     "metadata": {},
     "output_type": "execute_result"
    }
   ],
   "source": [
    "from sklearn.model_selection import cross_val_score\n",
    "cross_val_score(titanic_pipeline_baseline, X, y)"
   ]
  },
  {
   "cell_type": "code",
   "execution_count": 12,
   "metadata": {},
   "outputs": [
    {
     "name": "stderr",
     "output_type": "stream",
     "text": [
      "2020-12-19 20:54:56,673 : INFO : dict_keys(['fit_time', 'score_time', 'test_accuracy', 'test_roc_auc'])\n",
      "2020-12-19 20:54:56,674 : INFO : [0.79329609 0.82022472 0.82022472 0.78651685 0.84831461]\n",
      "2020-12-19 20:54:56,675 : INFO : [0.84756258 0.82065508 0.89364973 0.87459893 0.91178035]\n",
      "2020-12-19 20:54:56,676 : INFO : CV mean scores. Accuracy 0.8137; roc_auc: 0.8696 \n"
     ]
    }
   ],
   "source": [
    "from sklearn.model_selection import cross_validate\n",
    "cv_results = cross_validate(titanic_pipeline_baseline, X, y, scoring=('accuracy', 'roc_auc'), n_jobs=args.n_jobs)\n",
    "log.info(cv_results.keys())\n",
    "log.info(cv_results['test_accuracy'])\n",
    "log.info(cv_results['test_roc_auc'])\n",
    "log.info(\"CV mean scores. Accuracy %s; roc_auc: %s \",\n",
    "                 repr(np.mean(cv_results['test_accuracy']).round(4)), \n",
    "                 repr(np.mean(cv_results['test_roc_auc']).round(4)))"
   ]
  },
  {
   "cell_type": "code",
   "execution_count": 13,
   "metadata": {},
   "outputs": [
    {
     "data": {
      "text/plain": [
       "array([[155,  14],\n",
       "       [ 44,  82]])"
      ]
     },
     "execution_count": 13,
     "metadata": {},
     "output_type": "execute_result"
    }
   ],
   "source": [
    "from sklearn.metrics import confusion_matrix\n",
    "from sklearn.model_selection import train_test_split\n",
    "X_train, X_val, y_train, y_val = train_test_split(X, y, test_size=0.33, random_state=args.seed)\n",
    "\n",
    "titanic_pipeline_baseline.fit(X_train, y_train)\n",
    "\n",
    "confusion_matrix(y_val, titanic_pipeline_baseline.predict(X_val))"
   ]
  },
  {
   "cell_type": "code",
   "execution_count": 14,
   "metadata": {},
   "outputs": [
    {
     "data": {
      "text/plain": [
       "(array([0.77889447, 0.85416667]),\n",
       " array([0.91715976, 0.65079365]),\n",
       " array([0.8423913 , 0.73873874]),\n",
       " array([169, 126]))"
      ]
     },
     "execution_count": 14,
     "metadata": {},
     "output_type": "execute_result"
    }
   ],
   "source": [
    "from sklearn.metrics import precision_recall_fscore_support\n",
    "\n",
    "precision_recall_fscore_support(y_val, titanic_pipeline_baseline.predict(X_val), average=None)"
   ]
  },
  {
   "cell_type": "code",
   "execution_count": 15,
   "metadata": {},
   "outputs": [
    {
     "data": {
      "image/png": "[encoded data removed]",
      "text/plain": [
       "<Figure size 432x288 with 1 Axes>"
      ]
     },
     "metadata": {
      "needs_background": "light"
     },
     "output_type": "display_data"
    },
    {
     "data": {
      "image/png": "[encoded data removed]",
      "text/plain": [
       "<Figure size 432x288 with 1 Axes>"
      ]
     },
     "metadata": {
      "needs_background": "light"
     },
     "output_type": "display_data"
    }
   ],
   "source": [
    "# use SVM cause extra trees doesn't have decision function, \n",
    "# and cross_val_predict to work with the whole training dataset\n",
    "from sklearn.svm import SVC\n",
    "from sklearn.metrics import precision_recall_curve\n",
    "from sklearn.model_selection import cross_val_predict\n",
    "\n",
    "pipeline_clf_svm = SVC()\n",
    "\n",
    "titanic_pipeline_svm = Pipeline(\n",
    "    steps=[\n",
    "        ('feature-engineering', feature_engineering_col_transformer),\n",
    "        ('clf', pipeline_clf_svm)\n",
    "    ]\n",
    ")\n",
    "\n",
    "y_predicted_scores_svm = cross_val_predict(titanic_pipeline_svm, X, y, method='decision_function')\n",
    "precisions, recalls, thresholds = precision_recall_curve(y, y_predicted_scores_svm)\n",
    "\n",
    "fig, ax = plt.subplots()\n",
    "ax.plot(thresholds, precisions[:-1]) # additional 1 and 0 for pr and re in precision_recall_curve() are always added\n",
    "ax.plot(thresholds, recalls[:-1])\n",
    "ax.set(xlabel='threshold')\n",
    "ax.grid()\n",
    "plt.show()\n",
    "\n",
    "fig, ax = plt.subplots()\n",
    "ax.plot(recalls, precisions)\n",
    "ax.set(xlabel='recall', ylabel='precision')\n",
    "ax.grid()\n",
    "plt.show()"
   ]
  },
  {
   "cell_type": "code",
   "execution_count": 16,
   "metadata": {},
   "outputs": [
    {
     "data": {
      "image/png": "[encoded data removed]",
      "text/plain": [
       "<Figure size 432x288 with 1 Axes>"
      ]
     },
     "metadata": {
      "needs_background": "light"
     },
     "output_type": "display_data"
    },
    {
     "name": "stderr",
     "output_type": "stream",
     "text": [
      "2020-12-19 20:54:57,650 : INFO : Roc_auc_score SVM: 0.8577477391109832\n",
      "2020-12-19 20:54:57,652 : INFO : Roc_auc_score Extra trees: 0.8656888121944204\n"
     ]
    }
   ],
   "source": [
    "# roc_auc for extra trees\n",
    "from sklearn.metrics import roc_curve, roc_auc_score\n",
    "\n",
    "fpr_svm, tpr_svm, thresholds_svm = roc_curve(y, y_predicted_scores_svm)\n",
    "y_predicted_scores = cross_val_predict(titanic_pipeline_baseline, X, y, method='predict_proba')[:, 1]\n",
    "fpr, tpr, thresholds = roc_curve(y, y_predicted_scores)\n",
    "\n",
    "fig, ax = plt.subplots()\n",
    "ax.plot(fpr_svm, tpr_svm, label='SVM')\n",
    "ax.plot(fpr, tpr, label='Extra trees')\n",
    "ax.set(title='roc_auc', xlabel='fpr', ylabel='recall')\n",
    "ax.grid()\n",
    "ax.legend()\n",
    "plt.show()\n",
    "\n",
    "log.info('Roc_auc_score SVM: %s', roc_auc_score(y, y_predicted_scores_svm))\n",
    "log.info('Roc_auc_score Extra trees: %s', roc_auc_score(y, y_predicted_scores))"
   ]
  },
  {
   "cell_type": "code",
   "execution_count": 17,
   "metadata": {},
   "outputs": [
    {
     "name": "stdout",
     "output_type": "stream",
     "text": [
      "Saved file: ../predictions/titanic-experiments-low-threshold.csv\n",
      "Saved file: ../predictions/titanic-experiments-high-threshold.csv\n"
     ]
    }
   ],
   "source": [
    "# Move precision/recall to try to raise accuracy\n",
    "\n",
    "low_threshold = 0.25\n",
    "high_threshold = 0.9\n",
    "\n",
    "low_threshold_pipeline_predictions = (titanic_pipeline_baseline.predict_proba(X_test)[:, 1] > low_threshold).astype(int)\n",
    "high_threshold_pipeline_predictions = (titanic_pipeline_baseline.predict_proba(X_test)[:, 1] > high_threshold).astype(int)\n",
    "\n",
    "csv_predictions(low_threshold_pipeline_predictions, '../predictions/titanic-experiments-low-threshold.csv')\n",
    "csv_predictions(high_threshold_pipeline_predictions, '../predictions/titanic-experiments-high-threshold.csv')"
   ]
  },
  {
   "cell_type": "markdown",
   "metadata": {},
   "source": [
    "#### Test score pipeline threshold\n",
    "\n",
    "|  Model | Params | Test score |\n",
    "|---|---|---|\n",
    "| Extra trees (median age) low_threshold (0.25) | 'max_depth': 20, 'max_features': 11, 'min_samples_leaf': 7, 'n_estimators': 10 |  0.73205 |\n",
    "| Extra trees (median age) high_threshold (0.5) | 'max_depth': 20, 'max_features': 11, 'min_samples_leaf': 7, 'n_estimators': 10 |  0.77511 |\n",
    "| Extra trees (median age) high_threshold (0.7) | 'max_depth': 20, 'max_features': 11, 'min_samples_leaf': 7, 'n_estimators': 10 |  0.77511 |\n",
    "| Extra trees (median age) high_threshold (0.75) | 'max_depth': 20, 'max_features': 11, 'min_samples_leaf': 7, 'n_estimators': 10 |  0.77990 |\n",
    "| Extra trees (median age) high_threshold (0.8) | 'max_depth': 20, 'max_features': 11, 'min_samples_leaf': 7, 'n_estimators': 10 |  0.78468 |\n",
    "| Extra trees (median age) high_threshold (0.85) | 'max_depth': 20, 'max_features': 11, 'min_samples_leaf': 7, 'n_estimators': 10 |  0.77723 |\n",
    "| Extra trees (median age) high_threshold (0.9) | 'max_depth': 20, 'max_features': 11, 'min_samples_leaf': 7, 'n_estimators': 10 |  0.77272 |"
   ]
  },
  {
   "cell_type": "markdown",
   "metadata": {},
   "source": [
    "### Polynomial features"
   ]
  },
  {
   "cell_type": "code",
   "execution_count": 18,
   "metadata": {},
   "outputs": [
    {
     "name": "stdout",
     "output_type": "stream",
     "text": [
      "Saved file: ../predictions/titanic-experiments-poly-pipeline.csv\n"
     ]
    }
   ],
   "source": [
    "from sklearn.preprocessing import PolynomialFeatures\n",
    "\n",
    "titanic_pipeline_polynomial = Pipeline(\n",
    "    steps=[\n",
    "        ('feature-engineering', feature_engineering_col_transformer),\n",
    "        ('poly', PolynomialFeatures(degree=3, interaction_only=True, include_bias=False)),\n",
    "        ('clf', pipeline_clf)\n",
    "    ]\n",
    ")\n",
    "\n",
    "titanic_pipeline_polynomial.fit(X, y)\n",
    "\n",
    "predictions_pipeline = titanic_pipeline_polynomial.predict(X_test).astype(int)\n",
    "csv_predictions(predictions_pipeline, '../predictions/titanic-experiments-poly-pipeline.csv')"
   ]
  },
  {
   "cell_type": "markdown",
   "metadata": {},
   "source": [
    "#### Test score pipeline poly\n",
    "\n",
    "|  Model | Params | Test score |\n",
    "|---|---|---|\n",
    "| Extra trees (median age). Poly 2 degree | 'max_depth': 20, 'max_features': 11, 'min_samples_leaf': 7, 'n_estimators': 10 |  0.77751 |\n",
    "| Extra trees (median age). Poly 3 degree | 'max_depth': 20, 'max_features': 11, 'min_samples_leaf': 7, 'n_estimators': 10 |  0.78468 |\n",
    "| Extra trees (median age). Poly 3 degree, only interaction | 'max_depth': 20, 'max_features': 11, 'min_samples_leaf': 7, 'n_estimators': 10 |  0.74641 |"
   ]
  },
  {
   "cell_type": "markdown",
   "metadata": {},
   "source": [
    "### Decision Tree"
   ]
  },
  {
   "cell_type": "code",
   "execution_count": 19,
   "metadata": {},
   "outputs": [
    {
     "name": "stdout",
     "output_type": "stream",
     "text": [
      "Saved file: ../predictions/titanic-experiments-pipeline-dt.csv\n"
     ]
    }
   ],
   "source": [
    "from sklearn.tree import DecisionTreeClassifier\n",
    "\n",
    "dt = DecisionTreeClassifier(max_depth=5)\n",
    "\n",
    "titanic_pipeline_dt = Pipeline(\n",
    "    steps=[\n",
    "        ('feature-engineering', feature_engineering_col_transformer),\n",
    "        ('clf', dt)\n",
    "    ]\n",
    ")\n",
    "titanic_pipeline_dt.fit(X, y)\n",
    "\n",
    "predictions_pipeline = titanic_pipeline_dt.predict(X_test).astype(int)\n",
    "csv_predictions(predictions_pipeline, '../predictions/titanic-experiments-pipeline-dt.csv')"
   ]
  },
  {
   "cell_type": "code",
   "execution_count": 20,
   "metadata": {},
   "outputs": [
    {
     "data": {
      "image/png": "[encoded data removed]",
      "text/plain": [
       "<Figure size 1800x1440 with 1 Axes>"
      ]
     },
     "metadata": {
      "needs_background": "light"
     },
     "output_type": "display_data"
    }
   ],
   "source": [
    "from sklearn import tree\n",
    "# fig = plt.figure(figsize=(100,80))\n",
    "fig = plt.figure(figsize=(25,20))\n",
    "_ = tree.plot_tree(dt,\n",
    "                   feature_names=get_feature_names(titanic_pipeline_dt),\n",
    "                   filled=True)"
   ]
  },
  {
   "cell_type": "code",
   "execution_count": 21,
   "metadata": {},
   "outputs": [
    {
     "name": "stderr",
     "output_type": "stream",
     "text": [
      "2020-12-19 20:54:59,765 : INFO : |--- Title_Mr <= 0.50\n",
      "|   |--- Pclass_3 <= 0.50\n",
      "|   |   |--- Title_Officer <= 0.50\n",
      "|   |   |   |--- Fare <= -0.54\n",
      "|   |   |   |   |--- class: 0\n",
      "|   |   |   |--- Fare >  -0.54\n",
      "|   |   |   |   |--- Fare <= -0.07\n",
      "|   |   |   |   |   |--- class: 1\n",
      "|   |   |   |   |--- Fare >  -0.07\n",
      "|   |   |   |   |   |--- class: 1\n",
      "|   |   |--- Title_Officer >  0.50\n",
      "|   |   |   |--- Pclass_1 <= 0.50\n",
      "|   |   |   |   |--- class: 0\n",
      "|   |   |   |--- Pclass_1 >  0.50\n",
      "|   |   |   |   |--- Age <= 2.20\n",
      "|   |   |   |   |   |--- class: 1\n",
      "|   |   |   |   |--- Age >  2.20\n",
      "|   |   |   |   |   |--- class: 0\n",
      "|   |--- Pclass_3 >  0.50\n",
      "|   |   |--- Fare <= -0.18\n",
      "|   |   |   |--- Age <= 0.55\n",
      "|   |   |   |   |--- Embarked_S <= 0.50\n",
      "|   |   |   |   |   |--- class: 1\n",
      "|   |   |   |   |--- Embarked_S >  0.50\n",
      "|   |   |   |   |   |--- class: 1\n",
      "|   |   |   |--- Age >  0.55\n",
      "|   |   |   |   |--- Age <= 1.97\n",
      "|   |   |   |   |   |--- class: 0\n",
      "|   |   |   |   |--- Age >  1.97\n",
      "|   |   |   |   |   |--- class: 1\n",
      "|   |   |--- Fare >  -0.18\n",
      "|   |   |   |--- Fare <= 0.01\n",
      "|   |   |   |   |--- Fare <= -0.02\n",
      "|   |   |   |   |   |--- class: 0\n",
      "|   |   |   |   |--- Fare >  -0.02\n",
      "|   |   |   |   |   |--- class: 1\n",
      "|   |   |   |--- Fare >  0.01\n",
      "|   |   |   |   |--- class: 0\n",
      "|--- Title_Mr >  0.50\n",
      "|   |--- Fare <= -0.12\n",
      "|   |   |--- Ticket_S <= 0.50\n",
      "|   |   |   |--- Age <= 0.24\n",
      "|   |   |   |   |--- Age <= -0.05\n",
      "|   |   |   |   |   |--- class: 0\n",
      "|   |   |   |   |--- Age >  -0.05\n",
      "|   |   |   |   |   |--- class: 0\n",
      "|   |   |   |--- Age >  0.24\n",
      "|   |   |   |   |--- Pclass_2 <= 0.50\n",
      "|   |   |   |   |   |--- class: 0\n",
      "|   |   |   |   |--- Pclass_2 >  0.50\n",
      "|   |   |   |   |   |--- class: 0\n",
      "|   |   |--- Ticket_S >  0.50\n",
      "|   |   |   |--- Age <= 1.01\n",
      "|   |   |   |   |--- Fare <= -0.49\n",
      "|   |   |   |   |   |--- class: 0\n",
      "|   |   |   |   |--- Fare >  -0.49\n",
      "|   |   |   |   |   |--- class: 0\n",
      "|   |   |   |--- Age >  1.01\n",
      "|   |   |   |   |--- class: 1\n",
      "|   |--- Fare >  -0.12\n",
      "|   |   |--- Fare <= -0.11\n",
      "|   |   |   |--- Age <= 1.86\n",
      "|   |   |   |   |--- Age <= 0.13\n",
      "|   |   |   |   |   |--- class: 1\n",
      "|   |   |   |   |--- Age >  0.13\n",
      "|   |   |   |   |   |--- class: 1\n",
      "|   |   |   |--- Age >  1.86\n",
      "|   |   |   |   |--- class: 0\n",
      "|   |   |--- Fare >  -0.11\n",
      "|   |   |   |--- Ticket_digit <= 0.50\n",
      "|   |   |   |   |--- Fare <= 7.00\n",
      "|   |   |   |   |   |--- class: 0\n",
      "|   |   |   |   |--- Fare >  7.00\n",
      "|   |   |   |   |   |--- class: 1\n",
      "|   |   |   |--- Ticket_digit >  0.50\n",
      "|   |   |   |   |--- Age <= 1.09\n",
      "|   |   |   |   |   |--- class: 0\n",
      "|   |   |   |   |--- Age >  1.09\n",
      "|   |   |   |   |   |--- class: 0\n",
      "\n"
     ]
    }
   ],
   "source": [
    "text_representation = tree.export_text(dt, feature_names=get_feature_names(titanic_pipeline_dt))\n",
    "log.info(text_representation)"
   ]
  },
  {
   "cell_type": "markdown",
   "metadata": {},
   "source": [
    "#### Decision tree test score\n",
    "|  Model | Params | Test score |\n",
    "|---|---|---|\n",
    "| Decision tree (median age) | default |  0.71770 |\n",
    "| Decision tree (median age) | max_depth=5 |  0.75598 |"
   ]
  },
  {
   "cell_type": "markdown",
   "metadata": {},
   "source": [
    "### Voting classifiers"
   ]
  },
  {
   "cell_type": "code",
   "execution_count": 22,
   "metadata": {},
   "outputs": [
    {
     "name": "stderr",
     "output_type": "stream",
     "text": [
      "2020-12-19 20:55:00,135 : INFO : Type: <class 'sklearn.ensemble._forest.ExtraTreesClassifier'>. \n",
      " 5-fold CV mean scores. Accuracy 0.8137; roc_auc: 0.8696 \n",
      "2020-12-19 20:55:00,306 : INFO : Type: <class 'sklearn.svm._classes.SVC'>. \n",
      " 5-fold CV mean scores. Accuracy 0.8204; roc_auc: 0.8616 \n",
      "2020-12-19 20:55:00,405 : INFO : Type: <class 'sklearn.linear_model._logistic.LogisticRegression'>. \n",
      " 5-fold CV mean scores. Accuracy 0.8193; roc_auc: 0.8652 \n",
      "2020-12-19 20:55:01,011 : INFO : Type: <class 'sklearn.neural_network._multilayer_perceptron.MLPClassifier'>. \n",
      " 5-fold CV mean scores. Accuracy 0.7395; roc_auc: 0.8556 \n",
      "2020-12-19 20:55:01,114 : INFO : Type: <class 'sklearn.neighbors._classification.KNeighborsClassifier'>. \n",
      " 5-fold CV mean scores. Accuracy 0.8182; roc_auc: 0.8616 \n",
      "2020-12-19 20:55:01,192 : INFO : Type: <class 'sklearn.naive_bayes.GaussianNB'>. \n",
      " 5-fold CV mean scores. Accuracy 0.7373; roc_auc: 0.8196 \n",
      "2020-12-19 20:55:01,368 : INFO : Type: <class 'sklearn.ensemble._gb.GradientBoostingClassifier'>. \n",
      " 5-fold CV mean scores. Accuracy 0.8261; roc_auc: 0.8761 \n",
      "2020-12-19 20:55:04,080 : INFO : Type: <class 'sklearn.ensemble._voting.VotingClassifier'>. \n",
      " 5-fold CV mean scores. Accuracy 0.8271\n",
      "2020-12-19 20:55:05,523 : INFO : Type: <class 'sklearn.ensemble._voting.VotingClassifier'>. \n",
      " 5-fold CV mean scores. Accuracy 0.8283; roc_auc: 0.88 \n",
      "2020-12-19 20:55:06,979 : INFO : Type: <class 'sklearn.ensemble._voting.VotingClassifier'>. \n",
      " 5-fold CV mean scores. Accuracy 0.8204\n",
      "2020-12-19 20:55:07,759 : INFO : Type: <class 'sklearn.ensemble._voting.VotingClassifier'>. \n",
      " 5-fold CV mean scores. Accuracy 0.8238; roc_auc: 0.8755 \n"
     ]
    },
    {
     "name": "stdout",
     "output_type": "stream",
     "text": [
      "Saved file: ../predictions/titanic-experiments-pipeline-voting-vchl_clf.csv\n",
      "Saved file: ../predictions/titanic-experiments-pipeline-voting-vcsl_clf.csv\n",
      "Saved file: ../predictions/titanic-experiments-pipeline-voting-vchs_clf.csv\n",
      "Saved file: ../predictions/titanic-experiments-pipeline-voting-vcss_clf.csv\n"
     ]
    }
   ],
   "source": [
    "from sklearn.linear_model import LogisticRegression\n",
    "from sklearn.neural_network import MLPClassifier\n",
    "from sklearn.neighbors import KNeighborsClassifier\n",
    "from sklearn.naive_bayes import GaussianNB\n",
    "from sklearn.ensemble import GradientBoostingClassifier\n",
    "from sklearn.model_selection import cross_validate\n",
    "from sklearn.ensemble import VotingClassifier\n",
    "\n",
    "\n",
    "extra_clf = ExtraTreesClassifier(random_state=args.seed, n_jobs=-1, \n",
    "                                    **{'max_depth': 20, 'max_features': 11, 'min_samples_leaf': 7, 'n_estimators': 10})\n",
    "svm_clf = SVC(probability=True)\n",
    "log_clf = LogisticRegression()\n",
    "mlp_clf = MLPClassifier(hidden_layer_sizes=(16, 4))\n",
    "knn_clf = KNeighborsClassifier()\n",
    "gnb_clf = GaussianNB()\n",
    "gb_clf = GradientBoostingClassifier()\n",
    "vchl_clf = VotingClassifier(estimators=[('extra_clf', extra_clf), \n",
    "                                     ('svm_clf', svm_clf), \n",
    "                                     ('log_clf', log_clf), \n",
    "                                     ('mlp_clf', mlp_clf),\n",
    "                                     ('knn_clf', knn_clf),\n",
    "                                     ('gnb_clf', gnb_clf),\n",
    "                                     ('gb_clf', gb_clf),\n",
    "                                    ], \n",
    "                         voting='hard', n_jobs=args.n_jobs)\n",
    "vcsl_clf = VotingClassifier(estimators=[('extra_clf', extra_clf), \n",
    "                                     ('svm_clf', svm_clf), \n",
    "                                     ('log_clf', log_clf), \n",
    "                                     ('mlp_clf', mlp_clf),\n",
    "                                     ('knn_clf', knn_clf),\n",
    "                                     ('gnb_clf', gnb_clf),\n",
    "                                     ('gb_clf', gb_clf),\n",
    "                                    ], \n",
    "                         voting='soft', n_jobs=args.n_jobs)\n",
    "vchs_clf = VotingClassifier(estimators=[('extra_clf', extra_clf), \n",
    "                                     ('svm_clf', svm_clf), \n",
    "                                     ('log_clf', log_clf),\n",
    "                                    ], \n",
    "                         voting='hard', n_jobs=args.n_jobs)\n",
    "vcss_clf = VotingClassifier(estimators=[('extra_clf', extra_clf), \n",
    "                                     ('svm_clf', svm_clf), \n",
    "                                     ('log_clf', log_clf),\n",
    "                                    ], \n",
    "                         voting='soft', n_jobs=args.n_jobs)\n",
    "\n",
    "for clf in (extra_clf, svm_clf, log_clf, mlp_clf, knn_clf, gnb_clf, gb_clf, vchl_clf, vcsl_clf, vchs_clf, vcss_clf):\n",
    "    pipeline = Pipeline(\n",
    "        steps=[\n",
    "            ('feature-engineering', feature_engineering_col_transformer),\n",
    "            ('clf', clf)\n",
    "        ]\n",
    "    )\n",
    "    try:\n",
    "        cv_results = cross_validate(pipeline, X, y, scoring=('accuracy', 'roc_auc'), n_jobs=args.n_jobs)\n",
    "        log.info(\"Type: %s. \\n 5-fold CV mean scores. Accuracy %s; roc_auc: %s \", \n",
    "                 repr(type(pipeline.named_steps['clf'])),\n",
    "                 repr(np.mean(cv_results['test_accuracy']).round(4)), \n",
    "                 repr(np.mean(cv_results['test_roc_auc']).round(4)))\n",
    "    # can't roc_auc for hard voting\n",
    "    except AttributeError as _:\n",
    "        cv_results = cross_validate(pipeline, X, y, scoring=('accuracy'), n_jobs=args.n_jobs)\n",
    "        log.info(\"Type: %s. \\n 5-fold CV mean scores. Accuracy %s\", \n",
    "                 repr(type(pipeline.named_steps['clf'])),\n",
    "                 repr(np.mean(cv_results['test_score']).round(4)))\n",
    "\n",
    "for clf in ((vchl_clf, \"vchl_clf\"), (vcsl_clf, \"vcsl_clf\"), (vchs_clf, \"vchs_clf\"), (vcss_clf, \"vcss_clf\")):\n",
    "    pipeline = Pipeline(\n",
    "        steps=[\n",
    "            ('feature-engineering', feature_engineering_col_transformer),\n",
    "            ('clf', clf[0])\n",
    "        ]\n",
    "    )\n",
    "    pipeline.fit(X, y)\n",
    "    \n",
    "    predictions = pipeline.predict(X_test).astype(int)\n",
    "    csv_predictions(predictions, '../predictions/titanic-experiments-pipeline-voting-{}.csv'.format(clf[1]))"
   ]
  },
  {
   "cell_type": "markdown",
   "metadata": {},
   "source": [
    "#### Voting classifier test score\n",
    "|  Model | Params | Test score |\n",
    "|---|---|---|\n",
    "| Voting large | hard |  0.77751 |\n",
    "| Voting large | soft |  0.76794 |\n",
    "| Voting small | hard |  0.78229 |\n",
    "| Voting small | soft |  0.77751 |"
   ]
  },
  {
   "cell_type": "markdown",
   "metadata": {},
   "source": [
    "### Bagging and Pasting"
   ]
  },
  {
   "cell_type": "code",
   "execution_count": 23,
   "metadata": {},
   "outputs": [
    {
     "name": "stderr",
     "output_type": "stream",
     "text": [
      "2020-12-19 20:55:09,316 : INFO : Type: <class 'sklearn.tree._classes.DecisionTreeClassifier'>. \n",
      " 5-fold CV mean scores. Accuracy 0.8036; roc_auc: 0.8578 \n",
      "2020-12-19 20:55:10,030 : INFO : Type: <class 'sklearn.ensemble._bagging.BaggingClassifier'>. \n",
      " 5-fold CV mean scores. Accuracy 0.8171; roc_auc: 0.8717 \n",
      "2020-12-19 20:55:10,263 : INFO : OOB score 0.8215\n",
      "2020-12-19 20:55:10,794 : INFO : Type: <class 'sklearn.ensemble._bagging.BaggingClassifier'>. \n",
      " 5-fold CV mean scores. Accuracy 0.8204; roc_auc: 0.8732 \n",
      "2020-12-19 20:55:11,442 : INFO : Type: <class 'sklearn.ensemble._bagging.BaggingClassifier'>. \n",
      " 5-fold CV mean scores. Accuracy 0.8193; roc_auc: 0.8661 \n",
      "2020-12-19 20:55:11,637 : INFO : OOB score 0.8193\n",
      "2020-12-19 20:55:12,260 : INFO : Type: <class 'sklearn.ensemble._bagging.BaggingClassifier'>. \n",
      " 5-fold CV mean scores. Accuracy 0.8193; roc_auc: 0.8684 \n",
      "2020-12-19 20:55:12,458 : INFO : OOB score 0.8294\n",
      "2020-12-19 20:55:12,611 : INFO : Type: <class 'sklearn.ensemble._forest.ExtraTreesClassifier'>. \n",
      " 5-fold CV mean scores. Accuracy 0.8137; roc_auc: 0.8696 \n",
      "2020-12-19 20:55:17,162 : INFO : Type: <class 'sklearn.ensemble._bagging.BaggingClassifier'>. \n",
      " 5-fold CV mean scores. Accuracy 0.7946; roc_auc: 0.8581 \n",
      "2020-12-19 20:55:18,744 : INFO : OOB score 0.8025\n",
      "2020-12-19 20:55:21,915 : INFO : Type: <class 'sklearn.ensemble._bagging.BaggingClassifier'>. \n",
      " 5-fold CV mean scores. Accuracy 0.7991; roc_auc: 0.861 \n"
     ]
    },
    {
     "name": "stdout",
     "output_type": "stream",
     "text": [
      "Saved file: ../predictions/titanic-experiments-pipeline-bag-dt.csv\n",
      "Saved file: ../predictions/titanic-experiments-pipeline-bag-bag.csv\n",
      "Saved file: ../predictions/titanic-experiments-pipeline-bag-past.csv\n",
      "Saved file: ../predictions/titanic-experiments-pipeline-bag-bag_rp.csv\n",
      "Saved file: ../predictions/titanic-experiments-pipeline-bag-bag_rs.csv\n",
      "Saved file: ../predictions/titanic-experiments-pipeline-bag-extra.csv\n",
      "Saved file: ../predictions/titanic-experiments-pipeline-bag-bag_extra.csv\n",
      "Saved file: ../predictions/titanic-experiments-pipeline-bag-past_extra.csv\n"
     ]
    }
   ],
   "source": [
    "from sklearn.tree import DecisionTreeClassifier\n",
    "from sklearn.ensemble import BaggingClassifier\n",
    "\n",
    "dt = DecisionTreeClassifier(max_depth=5)\n",
    "bag = BaggingClassifier(dt, n_estimators=200, max_samples=100, n_jobs=args.n_jobs, oob_score=True)\n",
    "past = BaggingClassifier(dt, n_estimators=200, max_samples=100, bootstrap=False, n_jobs=args.n_jobs)\n",
    "bag_rp = BaggingClassifier(dt, n_estimators=200, max_samples=100, n_jobs=args.n_jobs, oob_score=True, \n",
    "                           max_features=0.5, bootstrap_features=True)\n",
    "bag_rs = BaggingClassifier(dt, n_estimators=200, max_samples=100, n_jobs=args.n_jobs, oob_score=True, \n",
    "                           max_features=0.5, bootstrap_features=False)\n",
    "extra = ExtraTreesClassifier(random_state=args.seed, n_jobs=-1, \n",
    "                             **{'max_depth': 20, 'max_features': 11, 'min_samples_leaf': 7, 'n_estimators': 10})\n",
    "bag_extra = BaggingClassifier(extra, n_estimators=200, max_samples=100, n_jobs=args.n_jobs, oob_score=True)\n",
    "past_extra = BaggingClassifier(extra, n_estimators=200, max_samples=100, bootstrap=False, n_jobs=args.n_jobs)\n",
    "\n",
    "for clf in (dt, bag, past, bag_rp, bag_rs, extra, bag_extra, past_extra):\n",
    "    pipeline = Pipeline(\n",
    "        steps=[\n",
    "            ('feature-engineering', feature_engineering_col_transformer),\n",
    "            ('clf', clf)\n",
    "        ]\n",
    "    )\n",
    "    cv_results = cross_validate(pipeline, X, y, scoring=('accuracy', 'roc_auc'), n_jobs=args.n_jobs)\n",
    "    log.info(\"Type: %s. \\n 5-fold CV mean scores. Accuracy %s; roc_auc: %s \", \n",
    "             repr(type(pipeline.named_steps['clf'])),\n",
    "             repr(np.mean(cv_results['test_accuracy']).round(4)), \n",
    "             repr(np.mean(cv_results['test_roc_auc']).round(4)))\n",
    "    if pipeline.named_steps['clf'] in (bag, bag_extra, bag_rp, bag_rs):\n",
    "        pipeline.fit(X, y)\n",
    "        log.info(\"OOB score %s\", pipeline.named_steps[\"clf\"].oob_score_.round(4))\n",
    "        \n",
    "    \n",
    "for clf in ((dt, \"dt\"), (bag, \"bag\"), (past, \"past\"), (bag_rp, \"bag_rp\"), (bag_rs, \"bag_rs\"),  (extra, \"extra\"), (bag_extra, \"bag_extra\"), (past_extra, \"past_extra\")):\n",
    "    pipeline = Pipeline(\n",
    "        steps=[\n",
    "            ('feature-engineering', feature_engineering_col_transformer),\n",
    "            ('clf', clf[0])\n",
    "        ]\n",
    "    )\n",
    "    pipeline.fit(X, y)\n",
    "    \n",
    "    predictions = pipeline.predict(X_test).astype(int)\n",
    "    csv_predictions(predictions, '../predictions/titanic-experiments-pipeline-bag-{}.csv'.format(clf[1]))"
   ]
  },
  {
   "cell_type": "markdown",
   "metadata": {},
   "source": [
    "#### Baggging classifier test score\n",
    "|  Model | Params | Test score |\n",
    "|---|---|---|\n",
    "| Dt large | max_depth=5 |  0.75598 |\n",
    "| Bag dt| n_estimators=200, max_samples=100 |  0.78708 |\n",
    "| Past dt | n_estimators=200, max_samples=100 |  0.77990 |\n",
    "| Bag dt random patches| n_estimators=200, max_samples=100, max_features=0.5, bootstrap_features=True |  0.77990 |\n",
    "| Bag dt random subspaces| n_estimators=200, max_samples=100, max_features=0.5, bootstrap_features=False |  0.77990 |\n",
    "| Extra | 'max_depth': 20, 'max_features': 11, 'min_samples_leaf': 7, 'n_estimators': 10 |  0.78468 |\n",
    "| Bag extra| n_estimators=200, max_samples=100 |  0.78229 |\n",
    "| Past extra | n_estimators=200, max_samples=100 |  0.78229 |"
   ]
  },
  {
   "cell_type": "markdown",
   "metadata": {},
   "source": [
    "### AdaBoost"
   ]
  },
  {
   "cell_type": "code",
   "execution_count": 24,
   "metadata": {},
   "outputs": [
    {
     "name": "stdout",
     "output_type": "stream",
     "text": [
      "Saved file: ../predictions/titanic-experiments-ada.csv\n"
     ]
    }
   ],
   "source": [
    "from sklearn.ensemble import AdaBoostClassifier\n",
    "\n",
    "ada_clf = AdaBoostClassifier(random_state=args.seed,n_estimators=500)\n",
    "\n",
    "pipeline = Pipeline(\n",
    "    steps=[\n",
    "        ('feature-engineering', feature_engineering_col_transformer),\n",
    "        ('clf',ada_clf)\n",
    "    ]\n",
    ")\n",
    "pipeline.fit(X, y)\n",
    "\n",
    "predictions_pipeline = pipeline.predict(X_test).astype(int)\n",
    "csv_predictions(predictions_pipeline, '../predictions/titanic-experiments-ada.csv')"
   ]
  },
  {
   "cell_type": "markdown",
   "metadata": {},
   "source": [
    "#### AdaBoost test score\n",
    "|  Model | Params | Test score |\n",
    "|---|---|---|\n",
    "| AdaBoostClassifier | default | 0.75598 |\n",
    "| AdaBoostClassifier | n_estimators=200 | 0.76076 |\n",
    "| AdaBoostClassifier | n_estimators=500 | 0.76315 |"
   ]
  },
  {
   "cell_type": "markdown",
   "metadata": {},
   "source": [
    "### Gradient boosting"
   ]
  },
  {
   "cell_type": "code",
   "execution_count": 25,
   "metadata": {},
   "outputs": [
    {
     "name": "stdout",
     "output_type": "stream",
     "text": [
      "Saved file: ../predictions/titanic-experiments-gb-default.csv\n"
     ]
    },
    {
     "data": {
      "image/png": "[encoded data removed]",
      "text/plain": [
       "<Figure size 432x288 with 1 Axes>"
      ]
     },
     "metadata": {
      "needs_background": "light"
     },
     "output_type": "display_data"
    },
    {
     "name": "stderr",
     "output_type": "stream",
     "text": [
      "2020-12-19 20:55:38,530 : INFO : Best n_estimators: 76\n"
     ]
    },
    {
     "name": "stdout",
     "output_type": "stream",
     "text": [
      "Saved file: ../predictions/titanic-experiments-gb.csv\n"
     ]
    }
   ],
   "source": [
    "from sklearn.ensemble import GradientBoostingClassifier\n",
    "from sklearn.model_selection import cross_validate\n",
    "\n",
    "gb_default_clf = GradientBoostingClassifier(random_state=args.seed)\n",
    "\n",
    "pipeline = Pipeline(\n",
    "    steps=[\n",
    "        ('feature-engineering', feature_engineering_col_transformer),\n",
    "        ('clf',gb_default_clf)\n",
    "    ]\n",
    ")\n",
    "pipeline.fit(X, y)\n",
    "\n",
    "predictions_pipeline = pipeline.predict(X_test).astype(int)\n",
    "csv_predictions(predictions_pipeline, '../predictions/titanic-experiments-gb-default.csv')\n",
    "\n",
    "\n",
    "def get_gb_best_n_estimnators(n_estimators_max=500):\n",
    "    def _print_score_n_estimators(scores):\n",
    "        xmax = np.argmax(scores) + 1\n",
    "        ymax = scores[xmax - 1]\n",
    "        fig, ax = plt.subplots()\n",
    "        ax.plot(range(1, len(scores) + 1), scores)\n",
    "        ax.plot([xmax, xmax], [scores[0], ymax], linestyle=\"dashed\", color=\"orange\")\n",
    "        ax.plot([1, xmax], [ymax, ymax], linestyle=\"dashed\", color=\"orange\")\n",
    "        ax.set(xlabel='n_estimators', ylabel='score')\n",
    "        ax.set_xlim(1, len(scores) + 1)\n",
    "        ax.set_ylim(ymin=np.min(scores))\n",
    "        ax.annotate('Max score', xy=(xmax, ymax), xytext=(xmax, ymax))\n",
    "        ax.annotate(repr(xmax), xy=(xmax, np.min(scores)), xytext=(xmax, np.min(scores)))\n",
    "        ax.annotate(repr(ymax), xy=(1, ymax), xytext=(1, ymax))\n",
    "        ax.grid()\n",
    "        plt.show()\n",
    "    assert n_estimators_max >= 1\n",
    "    log_losses = []\n",
    "    for n in range(1, n_estimators_max + 1):\n",
    "        gb_clf = GradientBoostingClassifier(random_state=args.seed, n_estimators=n)\n",
    "\n",
    "        pipeline = Pipeline(\n",
    "            steps=[\n",
    "                ('feature-engineering', feature_engineering_col_transformer),\n",
    "                ('clf',gb_clf)\n",
    "            ]\n",
    "        )\n",
    "        cv_results = cross_validate(pipeline, X, y, scoring=('neg_log_loss'), n_jobs=args.n_jobs)\n",
    "        log_losses.append(np.mean(cv_results['test_score']).round(4))\n",
    "    \n",
    "    _print_score_n_estimators(log_losses)\n",
    "    return np.argmax(log_losses) + 1\n",
    "\n",
    "best_n_estimators = get_gb_best_n_estimnators(100)\n",
    "\n",
    "log.info('Best n_estimators: %s', repr(best_n_estimators))\n",
    "gb_clf = GradientBoostingClassifier(random_state=args.seed, n_estimators=best_n_estimators)\n",
    "\n",
    "pipeline = Pipeline(\n",
    "    steps=[\n",
    "        ('feature-engineering', feature_engineering_col_transformer),\n",
    "        ('clf',gb_clf)\n",
    "    ]\n",
    ")\n",
    "pipeline.fit(X, y)\n",
    "\n",
    "predictions_pipeline = pipeline.predict(X_test).astype(int)\n",
    "csv_predictions(predictions_pipeline, '../predictions/titanic-experiments-gb.csv')"
   ]
  },
  {
   "cell_type": "markdown",
   "metadata": {},
   "source": [
    "#### GradientBoosting test score\n",
    "|  Model | Params | Test score |\n",
    "|---|---|---|\n",
    "| GradientBoostingClassifier | default | 0.77751 |\n",
    "| GradientBoostingClassifier | best n_estimators=76 | 0.77272 |"
   ]
  },
  {
   "cell_type": "markdown",
   "metadata": {},
   "source": [
    "### Stacking"
   ]
  },
  {
   "cell_type": "code",
   "execution_count": 26,
   "metadata": {},
   "outputs": [
    {
     "name": "stderr",
     "output_type": "stream",
     "text": [
      "2020-12-19 20:55:41,580 : INFO : Type: <class 'sklearn.ensemble._stacking.StackingClassifier'>. \n",
      " 5-fold CV mean scores. Accuracy 0.8272; roc_auc: 0.8731 \n"
     ]
    },
    {
     "name": "stdout",
     "output_type": "stream",
     "text": [
      "Saved file: ../predictions/titanic-experiments-pipeline-stacking-sts_clf.csv\n"
     ]
    },
    {
     "name": "stderr",
     "output_type": "stream",
     "text": [
      "2020-12-19 20:55:47,959 : INFO : Type: <class 'sklearn.ensemble._stacking.StackingClassifier'>. \n",
      " 5-fold CV mean scores. Accuracy 0.8249; roc_auc: 0.8779 \n"
     ]
    },
    {
     "name": "stdout",
     "output_type": "stream",
     "text": [
      "Saved file: ../predictions/titanic-experiments-pipeline-stacking-stl_clf.csv\n"
     ]
    }
   ],
   "source": [
    "from sklearn.ensemble import StackingClassifier\n",
    "\n",
    "extra_clf = ExtraTreesClassifier(random_state=args.seed, n_jobs=-1, \n",
    "                                    **{'max_depth': 20, 'max_features': 11, 'min_samples_leaf': 7, 'n_estimators': 10})\n",
    "svm_clf = SVC(probability=True, random_state=args.seed)\n",
    "mlp_clf = MLPClassifier(hidden_layer_sizes=(16, 4), random_state=args.seed)\n",
    "knn_clf = KNeighborsClassifier()\n",
    "gnb_clf = GaussianNB()\n",
    "gb_clf = GradientBoostingClassifier(random_state=args.seed)\n",
    "\n",
    "log_clf = LogisticRegression(random_state=args.seed)\n",
    "\n",
    "sts_clf = StackingClassifier(estimators=[('extra_clf', extra_clf), \n",
    "                                     ('svm_clf', svm_clf), \n",
    "                                     ('mlp_clf', mlp_clf),\n",
    "                                    ], \n",
    "                         final_estimator=log_clf, n_jobs=args.n_jobs)\n",
    "\n",
    "stl_clf = StackingClassifier(estimators=[('extra_clf', extra_clf), \n",
    "                                     ('svm_clf', svm_clf), \n",
    "                                     ('mlp_clf', mlp_clf),\n",
    "                                     ('knn_clf', knn_clf),\n",
    "                                     ('gnb_clf', gnb_clf),\n",
    "                                     ('gb_clf', gb_clf),\n",
    "                                    ], \n",
    "                         final_estimator=log_clf, n_jobs=args.n_jobs)\n",
    "\n",
    "\n",
    "for clf in ((sts_clf, \"sts_clf\"), (stl_clf, \"stl_clf\")):\n",
    "    pipeline = Pipeline(\n",
    "        steps=[\n",
    "            ('feature-engineering', feature_engineering_col_transformer),\n",
    "            ('clf', clf[0])\n",
    "        ]\n",
    "    )\n",
    "    cv_results = cross_validate(pipeline, X, y, scoring=('accuracy', 'roc_auc'), n_jobs=args.n_jobs)\n",
    "    log.info(\"Type: %s. \\n 5-fold CV mean scores. Accuracy %s; roc_auc: %s \", \n",
    "             repr(type(pipeline.named_steps['clf'])),\n",
    "             repr(np.mean(cv_results['test_accuracy']).round(4)), \n",
    "             repr(np.mean(cv_results['test_roc_auc']).round(4)))\n",
    "    \n",
    "    pipeline.fit(X, y)\n",
    "    \n",
    "    predictions = pipeline.predict(X_test).astype(int)\n",
    "    csv_predictions(predictions, '../predictions/titanic-experiments-pipeline-stacking-{}.csv'.format(clf[1]))"
   ]
  },
  {
   "cell_type": "markdown",
   "metadata": {},
   "source": [
    "#### Stacking test score\n",
    "|  Model | Params | Test score |\n",
    "|---|---|---|\n",
    "| Stacking small | default | 0.77272 |\n",
    "| Stacking large | default | 0.77272 |"
   ]
  },
  {
   "cell_type": "markdown",
   "metadata": {},
   "source": [
    "### Isolation forest"
   ]
  },
  {
   "cell_type": "code",
   "execution_count": 27,
   "metadata": {},
   "outputs": [
    {
     "name": "stdout",
     "output_type": "stream",
     "text": [
      "Saved file: ../predictions/titanic-experiments-no-outliers.csv\n"
     ]
    }
   ],
   "source": [
    "from sklearn.ensemble import IsolationForest\n",
    "\n",
    "if_clf = IsolationForest(random_state=args.seed, n_jobs=args.n_jobs, n_estimators=1000)\n",
    "\n",
    "pipeline = Pipeline(\n",
    "        steps=[\n",
    "            ('feature-engineering', feature_engineering_col_transformer),\n",
    "            ('clf', if_clf)\n",
    "        ]\n",
    "    )\n",
    "\n",
    "pipeline.fit(X)\n",
    "outliers = pipeline.predict(X)\n",
    "X_clean = X[outliers == 1]\n",
    "y_clean = y[outliers == 1]\n",
    "titanic_pipeline_baseline.fit(X_clean, y_clean)\n",
    "titanic_predictions = titanic_pipeline_baseline.predict(X_test).astype(int)\n",
    "csv_predictions(titanic_predictions, '../predictions/titanic-experiments-no-outliers.csv')"
   ]
  },
  {
   "cell_type": "markdown",
   "metadata": {},
   "source": [
    "#### Isolation forest test score\n",
    "|  Model | Params | Test score |\n",
    "|---|---|---|\n",
    "| Isolation forest | n_estimators=1000 | 0.77272 |"
   ]
  },
  {
   "cell_type": "markdown",
   "metadata": {},
   "source": [
    "### Hist gradient boosting"
   ]
  },
  {
   "cell_type": "code",
   "execution_count": 30,
   "metadata": {},
   "outputs": [
    {
     "name": "stdout",
     "output_type": "stream",
     "text": [
      "Saved file: ../predictions/titanic-experiments-hgb.csv\n"
     ]
    }
   ],
   "source": [
    "from sklearn.experimental import enable_hist_gradient_boosting \n",
    "from sklearn.ensemble import HistGradientBoostingClassifier\n",
    "\n",
    "hgb_clf = HistGradientBoostingClassifier(random_state=args.seed)\n",
    "\n",
    "pipeline = Pipeline(\n",
    "    steps=[\n",
    "        ('feature-engineering', feature_engineering_col_transformer),\n",
    "        ('clf', hgb_clf)\n",
    "    ]\n",
    ")\n",
    "pipeline.fit(X, y)\n",
    "\n",
    "predictions_pipeline = pipeline.predict(X_test).astype(int)\n",
    "csv_predictions(predictions_pipeline, '../predictions/titanic-experiments-hgb.csv')"
   ]
  },
  {
   "cell_type": "markdown",
   "metadata": {},
   "source": [
    "#### Isolation forest test score\n",
    "|  Model | Params | Test score |\n",
    "|---|---|---|\n",
    "| Hist gradient boosting | default | 0.73444 |"
   ]
  },
  {
   "cell_type": "markdown",
   "metadata": {},
   "source": [
    "### PCA"
   ]
  },
  {
   "cell_type": "code",
   "execution_count": 43,
   "metadata": {},
   "outputs": [
    {
     "name": "stdout",
     "output_type": "stream",
     "text": [
      "Saved file: ../predictions/titanic-experiments-pca.csv\n"
     ]
    }
   ],
   "source": [
    "from sklearn.decomposition import PCA\n",
    "\n",
    "clf = ExtraTreesClassifier(random_state=args.seed, n_jobs=-1, \n",
    "                                    **{'max_depth': 20, 'min_samples_leaf': 7, 'n_estimators': 10})\n",
    "pca = PCA(n_components=0.9)\n",
    "\n",
    "pipeline = Pipeline(\n",
    "    steps=[\n",
    "        ('feature-engineering', feature_engineering_col_transformer),\n",
    "        ('pca', pca),\n",
    "        ('clf', clf)\n",
    "    ]\n",
    ")\n",
    "pipeline.fit(X, y)\n",
    "predictions = pipeline.predict(X_test).astype(int)\n",
    "csv_predictions(predictions, '../predictions/titanic-experiments-pca.csv')\n"
   ]
  },
  {
   "cell_type": "markdown",
   "metadata": {},
   "source": [
    "#### PCA test score\n",
    "|  Model | Params | Test score |\n",
    "|---|---|---|\n",
    "| PCA | n_components=0.95 | 0.78468 |\n",
    "| PCA | n_components=0.90 | 0.77990 |"
   ]
  }
 ],
 "metadata": {
  "kernelspec": {
   "display_name": "Python 3",
   "language": "python",
   "name": "python3"
  },
  "language_info": {
   "codemirror_mode": {
    "name": "ipython",
    "version": 3
   },
   "file_extension": ".py",
   "mimetype": "text/x-python",
   "name": "python",
   "nbconvert_exporter": "python",
   "pygments_lexer": "ipython3",
   "version": "3.8.6"
  }
 },
 "nbformat": 4,
 "nbformat_minor": 2
}
