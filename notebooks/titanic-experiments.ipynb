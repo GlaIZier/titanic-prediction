{
 "cells": [
  {
   "cell_type": "markdown",
   "metadata": {},
   "source": [
    "## Todo\n",
    "\n",
    "poly features? \\\n",
    "regression? \\"
   ]
  },
  {
   "cell_type": "markdown",
   "metadata": {},
   "source": [
    "## Data"
   ]
  },
  {
   "cell_type": "code",
   "execution_count": 1,
   "metadata": {},
   "outputs": [],
   "source": [
    "import pandas as pd\n",
    "\n",
    "from matplotlib import pyplot as plt\n",
    "import pylab as plot\n",
    "import logging\n",
    "\n",
    "\n",
    "pd.options.display.max_columns = 100\n",
    "logging.basicConfig(format='%(asctime)s : %(levelname)s : %(message)s', level=logging.INFO)\n",
    "log = logging.getLogger()"
   ]
  },
  {
   "cell_type": "code",
   "execution_count": 2,
   "metadata": {},
   "outputs": [],
   "source": [
    "import argparse\n",
    "args = argparse.Namespace()\n",
    "args.raw_train = pd.read_csv(\"../data/train.csv\")\n",
    "args.raw_test = pd.read_csv(\"../data/test.csv\")\n",
    "args.train_border_index = 891\n",
    "args.val_border_index = 265\n",
    "args.splits = 5\n",
    "args.seed = 101\n",
    "args.n_jobs = -1"
   ]
  },
  {
   "cell_type": "code",
   "execution_count": 3,
   "metadata": {},
   "outputs": [
    {
     "name": "stdout",
     "output_type": "stream",
     "text": [
      "(891, 12)\n"
     ]
    },
    {
     "data": {
      "text/html": [
       "<div>\n",
       "<style scoped>\n",
       "    .dataframe tbody tr th:only-of-type {\n",
       "        vertical-align: middle;\n",
       "    }\n",
       "\n",
       "    .dataframe tbody tr th {\n",
       "        vertical-align: top;\n",
       "    }\n",
       "\n",
       "    .dataframe thead th {\n",
       "        text-align: right;\n",
       "    }\n",
       "</style>\n",
       "<table border=\"1\" class=\"dataframe\">\n",
       "  <thead>\n",
       "    <tr style=\"text-align: right;\">\n",
       "      <th></th>\n",
       "      <th>PassengerId</th>\n",
       "      <th>Survived</th>\n",
       "      <th>Pclass</th>\n",
       "      <th>Name</th>\n",
       "      <th>Sex</th>\n",
       "      <th>Age</th>\n",
       "      <th>SibSp</th>\n",
       "      <th>Parch</th>\n",
       "      <th>Ticket</th>\n",
       "      <th>Fare</th>\n",
       "      <th>Cabin</th>\n",
       "      <th>Embarked</th>\n",
       "    </tr>\n",
       "  </thead>\n",
       "  <tbody>\n",
       "    <tr>\n",
       "      <th>0</th>\n",
       "      <td>1</td>\n",
       "      <td>0</td>\n",
       "      <td>3</td>\n",
       "      <td>Braund, Mr. Owen Harris</td>\n",
       "      <td>male</td>\n",
       "      <td>22.0</td>\n",
       "      <td>1</td>\n",
       "      <td>0</td>\n",
       "      <td>A/5 21171</td>\n",
       "      <td>7.2500</td>\n",
       "      <td>NaN</td>\n",
       "      <td>S</td>\n",
       "    </tr>\n",
       "    <tr>\n",
       "      <th>1</th>\n",
       "      <td>2</td>\n",
       "      <td>1</td>\n",
       "      <td>1</td>\n",
       "      <td>Cumings, Mrs. John Bradley (Florence Briggs Th...</td>\n",
       "      <td>female</td>\n",
       "      <td>38.0</td>\n",
       "      <td>1</td>\n",
       "      <td>0</td>\n",
       "      <td>PC 17599</td>\n",
       "      <td>71.2833</td>\n",
       "      <td>C85</td>\n",
       "      <td>C</td>\n",
       "    </tr>\n",
       "    <tr>\n",
       "      <th>2</th>\n",
       "      <td>3</td>\n",
       "      <td>1</td>\n",
       "      <td>3</td>\n",
       "      <td>Heikkinen, Miss. Laina</td>\n",
       "      <td>female</td>\n",
       "      <td>26.0</td>\n",
       "      <td>0</td>\n",
       "      <td>0</td>\n",
       "      <td>STON/O2. 3101282</td>\n",
       "      <td>7.9250</td>\n",
       "      <td>NaN</td>\n",
       "      <td>S</td>\n",
       "    </tr>\n",
       "    <tr>\n",
       "      <th>3</th>\n",
       "      <td>4</td>\n",
       "      <td>1</td>\n",
       "      <td>1</td>\n",
       "      <td>Futrelle, Mrs. Jacques Heath (Lily May Peel)</td>\n",
       "      <td>female</td>\n",
       "      <td>35.0</td>\n",
       "      <td>1</td>\n",
       "      <td>0</td>\n",
       "      <td>113803</td>\n",
       "      <td>53.1000</td>\n",
       "      <td>C123</td>\n",
       "      <td>S</td>\n",
       "    </tr>\n",
       "    <tr>\n",
       "      <th>4</th>\n",
       "      <td>5</td>\n",
       "      <td>0</td>\n",
       "      <td>3</td>\n",
       "      <td>Allen, Mr. William Henry</td>\n",
       "      <td>male</td>\n",
       "      <td>35.0</td>\n",
       "      <td>0</td>\n",
       "      <td>0</td>\n",
       "      <td>373450</td>\n",
       "      <td>8.0500</td>\n",
       "      <td>NaN</td>\n",
       "      <td>S</td>\n",
       "    </tr>\n",
       "  </tbody>\n",
       "</table>\n",
       "</div>"
      ],
      "text/plain": [
       "   PassengerId  Survived  Pclass  \\\n",
       "0            1         0       3   \n",
       "1            2         1       1   \n",
       "2            3         1       3   \n",
       "3            4         1       1   \n",
       "4            5         0       3   \n",
       "\n",
       "                                                Name     Sex   Age  SibSp  \\\n",
       "0                            Braund, Mr. Owen Harris    male  22.0      1   \n",
       "1  Cumings, Mrs. John Bradley (Florence Briggs Th...  female  38.0      1   \n",
       "2                             Heikkinen, Miss. Laina  female  26.0      0   \n",
       "3       Futrelle, Mrs. Jacques Heath (Lily May Peel)  female  35.0      1   \n",
       "4                           Allen, Mr. William Henry    male  35.0      0   \n",
       "\n",
       "   Parch            Ticket     Fare Cabin Embarked  \n",
       "0      0         A/5 21171   7.2500   NaN        S  \n",
       "1      0          PC 17599  71.2833   C85        C  \n",
       "2      0  STON/O2. 3101282   7.9250   NaN        S  \n",
       "3      0            113803  53.1000  C123        S  \n",
       "4      0            373450   8.0500   NaN        S  "
      ]
     },
     "execution_count": 3,
     "metadata": {},
     "output_type": "execute_result"
    }
   ],
   "source": [
    "print(args.raw_train.shape)\n",
    "args.raw_train.head()"
   ]
  },
  {
   "cell_type": "code",
   "execution_count": 4,
   "metadata": {},
   "outputs": [
    {
     "name": "stdout",
     "output_type": "stream",
     "text": [
      "(418, 11)\n"
     ]
    },
    {
     "data": {
      "text/html": [
       "<div>\n",
       "<style scoped>\n",
       "    .dataframe tbody tr th:only-of-type {\n",
       "        vertical-align: middle;\n",
       "    }\n",
       "\n",
       "    .dataframe tbody tr th {\n",
       "        vertical-align: top;\n",
       "    }\n",
       "\n",
       "    .dataframe thead th {\n",
       "        text-align: right;\n",
       "    }\n",
       "</style>\n",
       "<table border=\"1\" class=\"dataframe\">\n",
       "  <thead>\n",
       "    <tr style=\"text-align: right;\">\n",
       "      <th></th>\n",
       "      <th>PassengerId</th>\n",
       "      <th>Pclass</th>\n",
       "      <th>Name</th>\n",
       "      <th>Sex</th>\n",
       "      <th>Age</th>\n",
       "      <th>SibSp</th>\n",
       "      <th>Parch</th>\n",
       "      <th>Ticket</th>\n",
       "      <th>Fare</th>\n",
       "      <th>Cabin</th>\n",
       "      <th>Embarked</th>\n",
       "    </tr>\n",
       "  </thead>\n",
       "  <tbody>\n",
       "    <tr>\n",
       "      <th>0</th>\n",
       "      <td>892</td>\n",
       "      <td>3</td>\n",
       "      <td>Kelly, Mr. James</td>\n",
       "      <td>male</td>\n",
       "      <td>34.5</td>\n",
       "      <td>0</td>\n",
       "      <td>0</td>\n",
       "      <td>330911</td>\n",
       "      <td>7.8292</td>\n",
       "      <td>NaN</td>\n",
       "      <td>Q</td>\n",
       "    </tr>\n",
       "    <tr>\n",
       "      <th>1</th>\n",
       "      <td>893</td>\n",
       "      <td>3</td>\n",
       "      <td>Wilkes, Mrs. James (Ellen Needs)</td>\n",
       "      <td>female</td>\n",
       "      <td>47.0</td>\n",
       "      <td>1</td>\n",
       "      <td>0</td>\n",
       "      <td>363272</td>\n",
       "      <td>7.0000</td>\n",
       "      <td>NaN</td>\n",
       "      <td>S</td>\n",
       "    </tr>\n",
       "    <tr>\n",
       "      <th>2</th>\n",
       "      <td>894</td>\n",
       "      <td>2</td>\n",
       "      <td>Myles, Mr. Thomas Francis</td>\n",
       "      <td>male</td>\n",
       "      <td>62.0</td>\n",
       "      <td>0</td>\n",
       "      <td>0</td>\n",
       "      <td>240276</td>\n",
       "      <td>9.6875</td>\n",
       "      <td>NaN</td>\n",
       "      <td>Q</td>\n",
       "    </tr>\n",
       "    <tr>\n",
       "      <th>3</th>\n",
       "      <td>895</td>\n",
       "      <td>3</td>\n",
       "      <td>Wirz, Mr. Albert</td>\n",
       "      <td>male</td>\n",
       "      <td>27.0</td>\n",
       "      <td>0</td>\n",
       "      <td>0</td>\n",
       "      <td>315154</td>\n",
       "      <td>8.6625</td>\n",
       "      <td>NaN</td>\n",
       "      <td>S</td>\n",
       "    </tr>\n",
       "    <tr>\n",
       "      <th>4</th>\n",
       "      <td>896</td>\n",
       "      <td>3</td>\n",
       "      <td>Hirvonen, Mrs. Alexander (Helga E Lindqvist)</td>\n",
       "      <td>female</td>\n",
       "      <td>22.0</td>\n",
       "      <td>1</td>\n",
       "      <td>1</td>\n",
       "      <td>3101298</td>\n",
       "      <td>12.2875</td>\n",
       "      <td>NaN</td>\n",
       "      <td>S</td>\n",
       "    </tr>\n",
       "  </tbody>\n",
       "</table>\n",
       "</div>"
      ],
      "text/plain": [
       "   PassengerId  Pclass                                          Name     Sex  \\\n",
       "0          892       3                              Kelly, Mr. James    male   \n",
       "1          893       3              Wilkes, Mrs. James (Ellen Needs)  female   \n",
       "2          894       2                     Myles, Mr. Thomas Francis    male   \n",
       "3          895       3                              Wirz, Mr. Albert    male   \n",
       "4          896       3  Hirvonen, Mrs. Alexander (Helga E Lindqvist)  female   \n",
       "\n",
       "    Age  SibSp  Parch   Ticket     Fare Cabin Embarked  \n",
       "0  34.5      0      0   330911   7.8292   NaN        Q  \n",
       "1  47.0      1      0   363272   7.0000   NaN        S  \n",
       "2  62.0      0      0   240276   9.6875   NaN        Q  \n",
       "3  27.0      0      0   315154   8.6625   NaN        S  \n",
       "4  22.0      1      1  3101298  12.2875   NaN        S  "
      ]
     },
     "execution_count": 4,
     "metadata": {},
     "output_type": "execute_result"
    }
   ],
   "source": [
    "print(args.raw_test.shape)\n",
    "args.raw_test.head()"
   ]
  },
  {
   "cell_type": "markdown",
   "metadata": {},
   "source": [
    "### Unknown data"
   ]
  },
  {
   "cell_type": "code",
   "execution_count": 5,
   "metadata": {
    "scrolled": true
   },
   "outputs": [
    {
     "data": {
      "image/png": "[encoded data removed]",
      "text/plain": [
       "<Figure size 1800x504 with 1 Axes>"
      ]
     },
     "metadata": {
      "needs_background": "light"
     },
     "output_type": "display_data"
    }
   ],
   "source": [
    "ax = args.raw_train.isna().sum().plot(kind='bar', figsize=(25, 7), stacked=True, title='Train set: total empty cells')\n",
    "for p in ax.patches:\n",
    "    ax.annotate(str(p.get_height()), (p.get_x() * 1.005, p.get_height() * 1.005))"
   ]
  },
  {
   "cell_type": "code",
   "execution_count": 6,
   "metadata": {
    "scrolled": true
   },
   "outputs": [
    {
     "data": {
      "image/png": "[encoded data removed]",
      "text/plain": [
       "<Figure size 1800x504 with 1 Axes>"
      ]
     },
     "metadata": {
      "needs_background": "light"
     },
     "output_type": "display_data"
    }
   ],
   "source": [
    "ax = args.raw_test.isna().sum().plot(kind='bar', figsize=(25, 7), stacked=True, title='Train set: total empty cells')\n",
    "for p in ax.patches:\n",
    "    ax.annotate(str(p.get_height()), (p.get_x() * 1.005, p.get_height() * 1.005))"
   ]
  },
  {
   "cell_type": "markdown",
   "metadata": {},
   "source": [
    "## Feature engineering"
   ]
  },
  {
   "cell_type": "code",
   "execution_count": 7,
   "metadata": {},
   "outputs": [],
   "source": [
    "X = args.raw_train.copy().drop('Survived', axis=1)\n",
    "y = args.raw_train.copy()['Survived']\n",
    "X_test = args.raw_test.copy()"
   ]
  },
  {
   "cell_type": "code",
   "execution_count": 8,
   "metadata": {},
   "outputs": [
    {
     "name": "stdout",
     "output_type": "stream",
     "text": [
      "X's transformed shape: (891, 26)\n"
     ]
    }
   ],
   "source": [
    "# median age\n",
    "\n",
    "import numpy as np\n",
    "from sklearn.pipeline import make_union, Pipeline, make_pipeline\n",
    "from sklearn.compose import ColumnTransformer\n",
    "from sklearn.base import BaseEstimator, TransformerMixin\n",
    "from sklearn.preprocessing import OneHotEncoder, OrdinalEncoder, StandardScaler\n",
    "from sklearn.impute import SimpleImputer\n",
    "from functools import reduce\n",
    "import re\n",
    "\n",
    "class NameToTitleTransformer(BaseEstimator, TransformerMixin):\n",
    "    def fit(self, X, y=None):\n",
    "        return self\n",
    "    def transform(self, X):\n",
    "        names = X.to_numpy().reshape(len(X),)\n",
    "    \n",
    "        title_dictionary = {\n",
    "            \"Capt\": \"Officer\",\n",
    "            \"Col\": \"Officer\",\n",
    "            \"Major\": \"Officer\",\n",
    "            \"Jonkheer\": \"Royalty\",\n",
    "            \"Don\": \"Royalty\",\n",
    "            \"Sir\": \"Royalty\",\n",
    "            \"Dr\": \"Officer\",\n",
    "            \"Rev\": \"Officer\",\n",
    "            \"the Countess\": \"Royalty\",\n",
    "            \"Mme\": \"Mrs\",\n",
    "            \"Mlle\": \"Miss\",\n",
    "            \"Ms\": \"Mrs\",\n",
    "            \"Mr\": \"Mr\",\n",
    "            \"Mrs\": \"Mrs\",\n",
    "            \"Miss\": \"Miss\",\n",
    "            \"Master\": \"Master\",\n",
    "            \"Lady\": \"Royalty\"\n",
    "        }\n",
    "        titles = [fullname.split(',')[1].split('.')[0].strip() for fullname in names]\n",
    "        short_titles = [title_dictionary.get(title, \"Royalty\") for title in titles]\n",
    "        return np.array(short_titles).reshape(len(short_titles), 1)\n",
    "\n",
    "class SibspParchToFamilySizeTransformer(BaseEstimator, TransformerMixin):\n",
    "    def fit(self, X, y=None):\n",
    "        return self\n",
    "    def transform(self, X):\n",
    "        def _categorize_family_size(family_size_row):\n",
    "            s_size = 0\n",
    "            m_size = 4\n",
    "            family_size = reduce(lambda x, y:x+y, family_size_row)\n",
    "            if family_size == s_size:\n",
    "                return 's'\n",
    "            elif family_size <= m_size:\n",
    "                return 'm'\n",
    "            else:\n",
    "                return 'l'\n",
    "        family_size_categories = list(map(_categorize_family_size, np.asarray(X.to_numpy())))\n",
    "        return np.array(family_size_categories).reshape(len(family_size_categories), 1)\n",
    "\n",
    "class TicketTransformer(BaseEstimator, TransformerMixin):\n",
    "    def fit(self, X, y=None):\n",
    "        return self\n",
    "    def transform(self, X):\n",
    "        def _clean_ticket(ticket):\n",
    "            # replace all special chars\n",
    "            ticket = re.sub('[^a-zA-Z0-9]', '', ticket)\n",
    "            if ticket[0].isdigit():\n",
    "                return 'digit'\n",
    "            return ticket[0]\n",
    "        ticket_categories = list(map(_clean_ticket, np.asarray(X.to_numpy().reshape(len(X),))))\n",
    "        return np.array(ticket_categories).reshape(len(ticket_categories), 1)\n",
    "    \n",
    "\n",
    "\n",
    "pclass_pipeline = OneHotEncoder(categories='auto')\n",
    "name_pipeline = make_pipeline(NameToTitleTransformer(), OneHotEncoder(categories='auto'))\n",
    "sex_pipeline = OrdinalEncoder(dtype='int')\n",
    "age_fare_pipeline = make_pipeline(SimpleImputer(strategy='median'), StandardScaler())\n",
    "sibsp_parch_pipeline = make_pipeline(SibspParchToFamilySizeTransformer(), OneHotEncoder(categories='auto'))\n",
    "ticket_pipeline = make_pipeline(TicketTransformer(), OneHotEncoder(categories='auto'))\n",
    "embarked_pipeline = make_pipeline(SimpleImputer(strategy='most_frequent'), OneHotEncoder(categories='auto'))\n",
    "\n",
    "feature_engineering_col_transformer = ColumnTransformer(\n",
    "    [('pclass_transformer', pclass_pipeline, ['Pclass']),\n",
    "     ('name_transformer', name_pipeline, ['Name']),\n",
    "     ('sex_transformer', sex_pipeline, ['Sex']),\n",
    "     ('age_fare_transformer', age_fare_pipeline, ['Age', 'Fare']),\n",
    "     ('sibsp_parch_transformer', sibsp_parch_pipeline, ['SibSp', 'Parch']),\n",
    "     ('ticket_transformer', ticket_pipeline, ['Ticket']),\n",
    "     ('embarked_transformer', embarked_pipeline, ['Embarked'])], \n",
    "    remainder='drop'\n",
    ")\n",
    "\n",
    "print(\"X's transformed shape:\", feature_engineering_col_transformer.fit_transform(X).shape)"
   ]
  },
  {
   "cell_type": "markdown",
   "metadata": {},
   "source": [
    "## Pipeline"
   ]
  },
  {
   "cell_type": "code",
   "execution_count": 9,
   "metadata": {},
   "outputs": [],
   "source": [
    "def csv_predictions(predictions, filename):\n",
    "    submission = pd.DataFrame({'PassengerId': args.raw_test['PassengerId'],'Survived': predictions})\n",
    "\n",
    "    submission.to_csv(filename, index=False)\n",
    "    print('Saved file: ' + filename)"
   ]
  },
  {
   "cell_type": "code",
   "execution_count": 56,
   "metadata": {},
   "outputs": [
    {
     "name": "stderr",
     "output_type": "stream",
     "text": [
      "2020-11-25 14:12:16,656 : INFO : Feature importances: [('Title_Mr', 0.33), ('Sex', 0.237), ('Pclass_3', 0.115), ('Pclass_1', 0.041), ('Fare', 0.039), ('FamilySize_l', 0.039), ('Pclass_2', 0.032), ('Title_Master', 0.029), ('Title_Mrs', 0.026), ('Title_Officer', 0.026), ('Age', 0.015), ('Embarked_S', 0.014), ('Embarked_C', 0.011), ('FamilySize_m', 0.01), ('Title_Miss', 0.008), ('Embarked_Q', 0.008), ('FamilySize_s', 0.006), ('Ticket_S', 0.005), ('Ticket_P', 0.004), ('Ticket_digit', 0.003), ('Ticket_C', 0.001), ('Title_Royalty', 0.0), ('Ticket_A', 0.0), ('Ticket_F', 0.0), ('Ticket_L', 0.0), ('Ticket_W', 0.0)]\n"
     ]
    },
    {
     "name": "stdout",
     "output_type": "stream",
     "text": [
      "Saved file: ../predictions/titanic-experiments-baseline.csv\n"
     ]
    }
   ],
   "source": [
    "# median age\n",
    "from sklearn.ensemble import ExtraTreesClassifier\n",
    "\n",
    "pipeline_clf = ExtraTreesClassifier(random_state=args.seed, n_jobs=-1, \n",
    "                                    **{'max_depth': 20, 'max_features': 11, 'min_samples_leaf': 7, 'n_estimators': 10})\n",
    "\n",
    "titanic_pipeline = Pipeline(\n",
    "    steps=[\n",
    "        ('feature-engineering', feature_engineering_col_transformer),\n",
    "        ('clf', pipeline_clf)\n",
    "    ]\n",
    ")\n",
    "\n",
    "titanic_pipeline.fit(X, y)\n",
    "\n",
    "def get_feature_names(pipeline):\n",
    "    feature_names = []\n",
    "    for transformer in pipeline.named_steps['feature-engineering'].transformers_:\n",
    "        if 'transformer' not in transformer[0]:\n",
    "            continue\n",
    "        transformer_class = transformer[1]\n",
    "        if type(transformer_class) is OneHotEncoder:\n",
    "            feature_names.extend(transformer_class.get_feature_names(transformer[2]).tolist())\n",
    "        elif type(transformer_class) is Pipeline:\n",
    "            if transformer[2][0] is 'SibSp':\n",
    "                feature_names.extend(transformer_class.steps[-1][-1].get_feature_names(['FamilySize']).tolist())\n",
    "            elif transformer[2][0] is 'Name':\n",
    "                feature_names.extend(transformer_class.steps[-1][-1].get_feature_names(['Title']).tolist())\n",
    "            elif type(transformer_class.steps[-1][-1]) is OneHotEncoder:\n",
    "                for col_name in transformer[2]:\n",
    "                    feature_names.extend(transformer_class.steps[-1][-1].get_feature_names([col_name]).tolist())\n",
    "            else:\n",
    "                feature_names.extend(transformer[2])\n",
    "        else:\n",
    "            feature_names.extend(transformer[2])\n",
    "    assert len(feature_names) == 26\n",
    "    return feature_names\n",
    "\n",
    "def print_feature_importances(pipeline):\n",
    "    fi = [fi for fi in zip(get_feature_names(pipeline), \n",
    "                                    pipeline.named_steps['clf'].feature_importances_.tolist())]\n",
    "    fi = list(map(lambda i: (i[0], round(i[-1], 3)), fi))\n",
    "    fi = sorted(fi, key=lambda i: i[-1], reverse=True)\n",
    "    log.info(\"Feature importances: %s\", repr(fi))\n",
    "             \n",
    "print_feature_importances(titanic_pipeline)\n",
    "\n",
    "predictions_pipeline = titanic_pipeline.predict(X_test).astype(int)\n",
    "csv_predictions(predictions_pipeline, '../predictions/titanic-experiments-baseline.csv')"
   ]
  },
  {
   "cell_type": "markdown",
   "metadata": {},
   "source": [
    "#### Test score pipeline\n",
    "\n",
    "|  Model | Params | Test score |\n",
    "|---|---|---|\n",
    "| Extra trees (median age) | 'max_depth': 20, 'max_features': 11, 'min_samples_leaf': 7, 'n_estimators': 10 |  0.78468 |"
   ]
  },
  {
   "cell_type": "markdown",
   "metadata": {},
   "source": [
    "### Metrics"
   ]
  },
  {
   "cell_type": "code",
   "execution_count": 11,
   "metadata": {},
   "outputs": [
    {
     "name": "stderr",
     "output_type": "stream",
     "text": [
      "/Users/mkhokhlush/github/titanic-prediction/venv/lib/python3.7/site-packages/sklearn/model_selection/_split.py:1978: FutureWarning: The default value of cv will change from 3 to 5 in version 0.22. Specify it explicitly to silence this warning.\n",
      "  warnings.warn(CV_WARNING, FutureWarning)\n"
     ]
    },
    {
     "data": {
      "text/plain": [
       "array([0.8013468 , 0.82828283, 0.83164983])"
      ]
     },
     "execution_count": 11,
     "metadata": {},
     "output_type": "execute_result"
    }
   ],
   "source": [
    "from sklearn.model_selection import cross_val_score\n",
    "cross_val_score(titanic_pipeline, X, y)"
   ]
  },
  {
   "cell_type": "code",
   "execution_count": 29,
   "metadata": {},
   "outputs": [
    {
     "name": "stderr",
     "output_type": "stream",
     "text": [
      "/Users/mkhokhlush/github/titanic-prediction/venv/lib/python3.7/site-packages/sklearn/model_selection/_split.py:1978: FutureWarning: The default value of cv will change from 3 to 5 in version 0.22. Specify it explicitly to silence this warning.\n",
      "  warnings.warn(CV_WARNING, FutureWarning)\n",
      "2020-11-24 09:44:08,108 : INFO : dict_keys(['fit_time', 'score_time', 'test_accuracy', 'test_roc_auc'])\n",
      "2020-11-24 09:44:08,116 : INFO : [0.8013468  0.82828283 0.83164983]\n",
      "2020-11-24 09:44:08,132 : INFO : [0.81576551 0.88395168 0.88637235]\n"
     ]
    }
   ],
   "source": [
    "from sklearn.model_selection import cross_validate\n",
    "cv_results = cross_validate(titanic_pipeline, X, y, scoring=('accuracy', 'roc_auc'), n_jobs=args.n_jobs)\n",
    "log.info(cv_results.keys())\n",
    "log.info(cv_results['test_accuracy'])\n",
    "log.info(cv_results['test_roc_auc'])"
   ]
  },
  {
   "cell_type": "code",
   "execution_count": 12,
   "metadata": {},
   "outputs": [
    {
     "data": {
      "text/plain": [
       "array([[155,  14],\n",
       "       [ 44,  82]])"
      ]
     },
     "execution_count": 12,
     "metadata": {},
     "output_type": "execute_result"
    }
   ],
   "source": [
    "from sklearn.metrics import confusion_matrix\n",
    "from sklearn.model_selection import train_test_split\n",
    "X_train, X_val, y_train, y_val = train_test_split(X, y, test_size=0.33, random_state=args.seed)\n",
    "\n",
    "titanic_pipeline.fit(X_train, y_train)\n",
    "\n",
    "confusion_matrix(y_val, titanic_pipeline.predict(X_val))"
   ]
  },
  {
   "cell_type": "code",
   "execution_count": 13,
   "metadata": {},
   "outputs": [
    {
     "data": {
      "text/plain": [
       "(array([0.77889447, 0.85416667]),\n",
       " array([0.91715976, 0.65079365]),\n",
       " array([0.8423913 , 0.73873874]),\n",
       " array([169, 126]))"
      ]
     },
     "execution_count": 13,
     "metadata": {},
     "output_type": "execute_result"
    }
   ],
   "source": [
    "from sklearn.metrics import precision_recall_fscore_support\n",
    "\n",
    "precision_recall_fscore_support(y_val, titanic_pipeline.predict(X_val), average=None)"
   ]
  },
  {
   "cell_type": "code",
   "execution_count": 32,
   "metadata": {},
   "outputs": [
    {
     "name": "stderr",
     "output_type": "stream",
     "text": [
      "/Users/mkhokhlush/github/titanic-prediction/venv/lib/python3.7/site-packages/sklearn/model_selection/_split.py:1978: FutureWarning: The default value of cv will change from 3 to 5 in version 0.22. Specify it explicitly to silence this warning.\n",
      "  warnings.warn(CV_WARNING, FutureWarning)\n",
      "/Users/mkhokhlush/github/titanic-prediction/venv/lib/python3.7/site-packages/sklearn/svm/base.py:193: FutureWarning: The default value of gamma will change from 'auto' to 'scale' in version 0.22 to account better for unscaled features. Set gamma explicitly to 'auto' or 'scale' to avoid this warning.\n",
      "  \"avoid this warning.\", FutureWarning)\n",
      "/Users/mkhokhlush/github/titanic-prediction/venv/lib/python3.7/site-packages/sklearn/svm/base.py:193: FutureWarning: The default value of gamma will change from 'auto' to 'scale' in version 0.22 to account better for unscaled features. Set gamma explicitly to 'auto' or 'scale' to avoid this warning.\n",
      "  \"avoid this warning.\", FutureWarning)\n",
      "/Users/mkhokhlush/github/titanic-prediction/venv/lib/python3.7/site-packages/sklearn/svm/base.py:193: FutureWarning: The default value of gamma will change from 'auto' to 'scale' in version 0.22 to account better for unscaled features. Set gamma explicitly to 'auto' or 'scale' to avoid this warning.\n",
      "  \"avoid this warning.\", FutureWarning)\n"
     ]
    },
    {
     "data": {
      "image/png": "[encoded data removed]",
      "text/plain": [
       "<Figure size 432x288 with 1 Axes>"
      ]
     },
     "metadata": {
      "needs_background": "light"
     },
     "output_type": "display_data"
    },
    {
     "data": {
      "image/png": "[encoded data removed]",
      "text/plain": [
       "<Figure size 432x288 with 1 Axes>"
      ]
     },
     "metadata": {
      "needs_background": "light"
     },
     "output_type": "display_data"
    }
   ],
   "source": [
    "# use SVM cause extra trees doesn't have decision function, \n",
    "# and cross_val_predict to work with the whole training dataset\n",
    "from sklearn.svm import SVC\n",
    "from sklearn.metrics import precision_recall_curve\n",
    "from sklearn.model_selection import cross_val_predict\n",
    "\n",
    "pipeline_clf_svm = SVC()\n",
    "\n",
    "titanic_pipeline_svm = Pipeline(\n",
    "    steps=[\n",
    "        ('feature-engineering', feature_engineering_col_transformer),\n",
    "        ('clf', pipeline_clf_svm)\n",
    "    ]\n",
    ")\n",
    "\n",
    "y_predicted_scores_svm = cross_val_predict(titanic_pipeline_svm, X, y, method='decision_function')\n",
    "precisions, recalls, thresholds = precision_recall_curve(y, y_predicted_scores_svm)\n",
    "\n",
    "fig, ax = plt.subplots()\n",
    "ax.plot(thresholds, precisions[:-1]) # additional 1 and 0 for pr and re in precision_recall_curve() are always added\n",
    "ax.plot(thresholds, recalls[:-1])\n",
    "ax.set(xlabel='threshold')\n",
    "ax.grid()\n",
    "plt.show()\n",
    "\n",
    "fig, ax = plt.subplots()\n",
    "ax.plot(recalls, precisions)\n",
    "ax.set(xlabel='recall', ylabel='precision')\n",
    "ax.grid()\n",
    "plt.show()"
   ]
  },
  {
   "cell_type": "code",
   "execution_count": 40,
   "metadata": {},
   "outputs": [
    {
     "name": "stderr",
     "output_type": "stream",
     "text": [
      "/Users/mkhokhlush/github/titanic-prediction/venv/lib/python3.7/site-packages/sklearn/model_selection/_split.py:1978: FutureWarning: The default value of cv will change from 3 to 5 in version 0.22. Specify it explicitly to silence this warning.\n",
      "  warnings.warn(CV_WARNING, FutureWarning)\n"
     ]
    },
    {
     "data": {
      "image/png": "[encoded data removed]",
      "text/plain": [
       "<Figure size 432x288 with 1 Axes>"
      ]
     },
     "metadata": {
      "needs_background": "light"
     },
     "output_type": "display_data"
    },
    {
     "name": "stderr",
     "output_type": "stream",
     "text": [
      "2020-11-24 11:34:26,565 : INFO : Roc_auc_score SVM: 0.8440545808966862\n",
      "2020-11-24 11:34:26,567 : INFO : Roc_auc_score Extra trees: 0.8575719809542071\n"
     ]
    }
   ],
   "source": [
    "# roc_auc for extra trees\n",
    "from sklearn.metrics import roc_curve, roc_auc_score\n",
    "\n",
    "fpr_svm, tpr_svm, thresholds_svm = roc_curve(y, y_predicted_scores_svm)\n",
    "y_predicted_scores = cross_val_predict(titanic_pipeline, X, y, method='predict_proba')[:, 1]\n",
    "fpr, tpr, thresholds = roc_curve(y, y_predicted_scores)\n",
    "\n",
    "fig, ax = plt.subplots()\n",
    "ax.plot(fpr_svm, tpr_svm, label='SVM')\n",
    "ax.plot(fpr, tpr, label='Extra trees')\n",
    "ax.set(title='roc_auc', xlabel='fpr', ylabel='recall')\n",
    "ax.grid()\n",
    "ax.legend()\n",
    "plt.show()\n",
    "\n",
    "log.info('Roc_auc_score SVM: %s', roc_auc_score(y, y_predicted_scores_svm))\n",
    "log.info('Roc_auc_score Extra trees: %s', roc_auc_score(y, y_predicted_scores))"
   ]
  },
  {
   "cell_type": "code",
   "execution_count": 57,
   "metadata": {},
   "outputs": [
    {
     "name": "stdout",
     "output_type": "stream",
     "text": [
      "Saved file: ../predictions/titanic-experiments-low-threshold.csv\n",
      "Saved file: ../predictions/titanic-experiments-high-threshold.csv\n"
     ]
    }
   ],
   "source": [
    "# Move precision/recall to try to raise accuracy\n",
    "\n",
    "low_threshold = 0.25\n",
    "high_threshold = 0.9\n",
    "\n",
    "low_threshold_pipeline_predictions = (titanic_pipeline.predict_proba(X_test)[:, 1] > low_threshold).astype(int)\n",
    "high_threshold_pipeline_predictions = (titanic_pipeline.predict_proba(X_test)[:, 1] > high_threshold).astype(int)\n",
    "\n",
    "csv_predictions(low_threshold_pipeline_predictions, '../predictions/titanic-experiments-low-threshold.csv')\n",
    "csv_predictions(high_threshold_pipeline_predictions, '../predictions/titanic-experiments-high-threshold.csv')"
   ]
  },
  {
   "cell_type": "markdown",
   "metadata": {},
   "source": [
    "#### Test score pipeline threshold\n",
    "\n",
    "|  Model | Params | Test score |\n",
    "|---|---|---|\n",
    "| Extra trees (median age) low_threshold (0.25) | 'max_depth': 20, 'max_features': 11, 'min_samples_leaf': 7, 'n_estimators': 10 |  0.73205 |\n",
    "| Extra trees (median age) high_threshold (0.5) | 'max_depth': 20, 'max_features': 11, 'min_samples_leaf': 7, 'n_estimators': 10 |  0.77511 |\n",
    "| Extra trees (median age) high_threshold (0.7) | 'max_depth': 20, 'max_features': 11, 'min_samples_leaf': 7, 'n_estimators': 10 |  0.77511 |\n",
    "| Extra trees (median age) high_threshold (0.75) | 'max_depth': 20, 'max_features': 11, 'min_samples_leaf': 7, 'n_estimators': 10 |  0.77990 |\n",
    "| Extra trees (median age) high_threshold (0.8) | 'max_depth': 20, 'max_features': 11, 'min_samples_leaf': 7, 'n_estimators': 10 |  0.78468 |\n",
    "| Extra trees (median age) high_threshold (0.85) | 'max_depth': 20, 'max_features': 11, 'min_samples_leaf': 7, 'n_estimators': 10 |  0.77723 |\n",
    "| Extra trees (median age) high_threshold (0.9) | 'max_depth': 20, 'max_features': 11, 'min_samples_leaf': 7, 'n_estimators': 10 |  0.77272 |"
   ]
  },
  {
   "cell_type": "markdown",
   "metadata": {},
   "source": [
    "### Polynomial features"
   ]
  },
  {
   "cell_type": "code",
   "execution_count": 70,
   "metadata": {},
   "outputs": [
    {
     "name": "stdout",
     "output_type": "stream",
     "text": [
      "Saved file: ../predictions/titanic-experiments-poly-pipeline.csv\n"
     ]
    }
   ],
   "source": [
    "from sklearn.preprocessing import PolynomialFeatures\n",
    "\n",
    "titanic_pipeline_polynomial = Pipeline(\n",
    "    steps=[\n",
    "        ('feature-engineering', feature_engineering_col_transformer),\n",
    "        ('poly', PolynomialFeatures(degree=3, interaction_only=True, include_bias=False)),\n",
    "        ('clf', pipeline_clf)\n",
    "    ]\n",
    ")\n",
    "\n",
    "titanic_pipeline_polynomial.fit(X, y)\n",
    "\n",
    "predictions_pipeline = titanic_pipeline_polynomial.predict(X_test).astype(int)\n",
    "csv_predictions(predictions_pipeline, '../predictions/titanic-experiments-poly-pipeline.csv')"
   ]
  },
  {
   "cell_type": "markdown",
   "metadata": {},
   "source": [
    "#### Test score pipeline poly\n",
    "\n",
    "|  Model | Params | Test score |\n",
    "|---|---|---|\n",
    "| Extra trees (median age). Poly 2 degree | 'max_depth': 20, 'max_features': 11, 'min_samples_leaf': 7, 'n_estimators': 10 |  0.77751 |\n",
    "| Extra trees (median age). Poly 3 degree | 'max_depth': 20, 'max_features': 11, 'min_samples_leaf': 7, 'n_estimators': 10 |  0.78468 |\n",
    "| Extra trees (median age). Poly 3 degree, only interaction | 'max_depth': 20, 'max_features': 11, 'min_samples_leaf': 7, 'n_estimators': 10 |  0.74641 |"
   ]
  }
 ],
 "metadata": {
  "kernelspec": {
   "display_name": "Python 3",
   "language": "python",
   "name": "python3"
  },
  "language_info": {
   "codemirror_mode": {
    "name": "ipython",
    "version": 3
   },
   "file_extension": ".py",
   "mimetype": "text/x-python",
   "name": "python",
   "nbconvert_exporter": "python",
   "pygments_lexer": "ipython3",
   "version": "3.7.5"
  }
 },
 "nbformat": 4,
 "nbformat_minor": 2
}
